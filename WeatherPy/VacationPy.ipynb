{
 "cells": [
  {
   "cell_type": "markdown",
   "metadata": {},
   "source": [
    "# VacationPy\n",
    "---\n",
    "\n",
    "## Starter Code to Import Libraries and Load the Weather and Coordinates Data\n",
    "### NOTE: HVPlot does not currently function, and Gmaps currently has a security problem with Jupyter Notebook. For this reason, instruction team recommended use of Plotly instead."
   ]
  },
  {
   "cell_type": "code",
   "execution_count": 20,
   "metadata": {},
   "outputs": [],
   "source": [
    "# Dependencies and Setup\n",
    "import pandas as pd\n",
    "#import hvplot.pandas # THIS DOES NOT FUNCTION, AND INSTRUCTION TEAM HAS SUGGESTED USING PLOTLY INSTEAD\n",
    "import requests\n",
    "import plotly.express as px\n",
    "\n",
    "\n",
    "# Import API key\n",
    "from api_keys import geoapify_key\n",
    "#print(geoapify_key)"
   ]
  },
  {
   "cell_type": "code",
   "execution_count": 21,
   "metadata": {},
   "outputs": [
    {
     "data": {
      "text/html": [
       "<div>\n",
       "<style scoped>\n",
       "    .dataframe tbody tr th:only-of-type {\n",
       "        vertical-align: middle;\n",
       "    }\n",
       "\n",
       "    .dataframe tbody tr th {\n",
       "        vertical-align: top;\n",
       "    }\n",
       "\n",
       "    .dataframe thead th {\n",
       "        text-align: right;\n",
       "    }\n",
       "</style>\n",
       "<table border=\"1\" class=\"dataframe\">\n",
       "  <thead>\n",
       "    <tr style=\"text-align: right;\">\n",
       "      <th></th>\n",
       "      <th>City_ID</th>\n",
       "      <th>City</th>\n",
       "      <th>Lat</th>\n",
       "      <th>Lng</th>\n",
       "      <th>Max Temp</th>\n",
       "      <th>Humidity</th>\n",
       "      <th>Cloudiness</th>\n",
       "      <th>Wind Speed</th>\n",
       "      <th>Country</th>\n",
       "      <th>Date</th>\n",
       "    </tr>\n",
       "  </thead>\n",
       "  <tbody>\n",
       "    <tr>\n",
       "      <th>0</th>\n",
       "      <td>0</td>\n",
       "      <td>ushuaia</td>\n",
       "      <td>-54.8000</td>\n",
       "      <td>-68.3000</td>\n",
       "      <td>10.66</td>\n",
       "      <td>66</td>\n",
       "      <td>100</td>\n",
       "      <td>3.13</td>\n",
       "      <td>AR</td>\n",
       "      <td>1667491311</td>\n",
       "    </tr>\n",
       "    <tr>\n",
       "      <th>1</th>\n",
       "      <td>1</td>\n",
       "      <td>rikitea</td>\n",
       "      <td>-23.1203</td>\n",
       "      <td>-134.9692</td>\n",
       "      <td>20.73</td>\n",
       "      <td>69</td>\n",
       "      <td>100</td>\n",
       "      <td>6.80</td>\n",
       "      <td>PF</td>\n",
       "      <td>1667491513</td>\n",
       "    </tr>\n",
       "    <tr>\n",
       "      <th>2</th>\n",
       "      <td>2</td>\n",
       "      <td>sibu</td>\n",
       "      <td>2.3000</td>\n",
       "      <td>111.8167</td>\n",
       "      <td>23.93</td>\n",
       "      <td>98</td>\n",
       "      <td>99</td>\n",
       "      <td>0.84</td>\n",
       "      <td>MY</td>\n",
       "      <td>1667491567</td>\n",
       "    </tr>\n",
       "    <tr>\n",
       "      <th>3</th>\n",
       "      <td>3</td>\n",
       "      <td>tasiilaq</td>\n",
       "      <td>65.6145</td>\n",
       "      <td>-37.6368</td>\n",
       "      <td>1.09</td>\n",
       "      <td>98</td>\n",
       "      <td>100</td>\n",
       "      <td>5.59</td>\n",
       "      <td>GL</td>\n",
       "      <td>1667491568</td>\n",
       "    </tr>\n",
       "    <tr>\n",
       "      <th>4</th>\n",
       "      <td>4</td>\n",
       "      <td>chaplynka</td>\n",
       "      <td>46.3651</td>\n",
       "      <td>33.5403</td>\n",
       "      <td>10.33</td>\n",
       "      <td>51</td>\n",
       "      <td>11</td>\n",
       "      <td>2.22</td>\n",
       "      <td>UA</td>\n",
       "      <td>1667491568</td>\n",
       "    </tr>\n",
       "  </tbody>\n",
       "</table>\n",
       "</div>"
      ],
      "text/plain": [
       "   City_ID       City      Lat       Lng  Max Temp  Humidity  Cloudiness  \\\n",
       "0        0    ushuaia -54.8000  -68.3000     10.66        66         100   \n",
       "1        1    rikitea -23.1203 -134.9692     20.73        69         100   \n",
       "2        2       sibu   2.3000  111.8167     23.93        98          99   \n",
       "3        3   tasiilaq  65.6145  -37.6368      1.09        98         100   \n",
       "4        4  chaplynka  46.3651   33.5403     10.33        51          11   \n",
       "\n",
       "   Wind Speed Country        Date  \n",
       "0        3.13      AR  1667491311  \n",
       "1        6.80      PF  1667491513  \n",
       "2        0.84      MY  1667491567  \n",
       "3        5.59      GL  1667491568  \n",
       "4        2.22      UA  1667491568  "
      ]
     },
     "execution_count": 21,
     "metadata": {},
     "output_type": "execute_result"
    }
   ],
   "source": [
    "# Load the CSV file created in Part 1 into a Pandas DataFrame\n",
    "city_data_df = pd.read_csv(\"output_data/cities.csv\")\n",
    "\n",
    "# Display sample data\n",
    "city_data_df.head()"
   ]
  },
  {
   "cell_type": "markdown",
   "metadata": {},
   "source": [
    "---\n",
    "\n",
    "### Step 1: Create a map that displays a point for every city in the `city_data_df` DataFrame. The size of the point should be the humidity in each city."
   ]
  },
  {
   "cell_type": "code",
   "execution_count": 22,
   "metadata": {},
   "outputs": [
    {
     "data": {
      "application/vnd.plotly.v1+json": {
       "config": {
        "plotlyServerURL": "https://plot.ly"
       },
       "data": [
        {
         "hovertemplate": "<b>%{hovertext}</b><br><br>Humidity=%{marker.size}<br>Lat=%{lat}<br>Lng=%{lon}<extra></extra>",
         "hovertext": [
          "ushuaia",
          "rikitea",
          "sibu",
          "tasiilaq",
          "chaplynka",
          "smidovich",
          "georgetown",
          "cabo san lucas",
          "saskylakh",
          "punta arenas",
          "arraial do cabo",
          "quatre cocos",
          "jamestown",
          "hobart",
          "spornoye",
          "port elizabeth",
          "atuona",
          "kapaa",
          "tuktoyaktuk",
          "ola",
          "new norfolk",
          "thompson",
          "nuuk",
          "bredasdorp",
          "chuy",
          "guerrero negro",
          "nichinan",
          "xai-xai",
          "sechura",
          "klaksvik",
          "bluff",
          "laranjeiras do sul",
          "letlhakeng",
          "bousso",
          "busselton",
          "adelaide",
          "thomaston",
          "asfi",
          "luanda",
          "sturgis",
          "victoria",
          "batemans bay",
          "gangtok",
          "riyadh",
          "coihaique",
          "lebu",
          "cavnic",
          "cayenne",
          "puerto ayora",
          "esperance",
          "port alfred",
          "cape town",
          "castro",
          "praia da vitoria",
          "haimen",
          "cockburn town",
          "ribeira grande",
          "mizan teferi",
          "maravilha",
          "nikolskoye",
          "belmonte",
          "meulaboh",
          "popondetta",
          "hermanus",
          "gat",
          "matagami",
          "vaini",
          "lwowek slaski",
          "makakilo city",
          "yellowknife",
          "mayo",
          "ha giang",
          "juneau",
          "torbay",
          "samarai",
          "barra da estiva",
          "khiv",
          "saint-philippe",
          "lompoc",
          "tiksi",
          "chapleau",
          "thinadhoo",
          "zug",
          "hilo",
          "severo-kurilsk",
          "siuna",
          "qaanaaq",
          "vestmannaeyjar",
          "dingle",
          "leningradskiy",
          "olafsvik",
          "east london",
          "huambo",
          "mabaruma",
          "dikson",
          "abay",
          "peace river",
          "shimsk",
          "mataura",
          "asau",
          "port lincoln",
          "kodiak",
          "talavera de la reina",
          "wanning",
          "yar-sale",
          "xiongyue",
          "padang",
          "carnarvon",
          "ostrovnoy",
          "cherskiy",
          "necochea",
          "arucas",
          "shelburne",
          "teguise",
          "port blair",
          "platanos",
          "ilulissat",
          "husavik",
          "provideniya",
          "anadyr",
          "abu dhabi",
          "monte alegre de minas",
          "salisbury",
          "pangai",
          "ancud",
          "egvekinot",
          "port hardy",
          "sorland",
          "paita",
          "hithadhoo",
          "shimoda",
          "lavrentiya",
          "butaritari",
          "kangaatsiaq",
          "bambous virieux",
          "sellye",
          "norman wells",
          "avarua",
          "ginir",
          "kaseda",
          "ponta do sol",
          "xuddur",
          "mabopane",
          "sakakah",
          "norton",
          "jijiga",
          "taltal",
          "codrington",
          "beipiao",
          "kahului",
          "fort nelson",
          "nampula",
          "wardha",
          "taurage",
          "salalah",
          "obo",
          "yumen",
          "fuerte olimpo",
          "albany",
          "micco",
          "saint anthony",
          "sibolga",
          "ngunguru",
          "alta floresta",
          "kashi",
          "mandalgovi",
          "te anau",
          "vigrestad",
          "sinjai",
          "lake havasu city",
          "poum",
          "bandundu",
          "oshikango",
          "barrow",
          "sturgeon bay",
          "namibe",
          "umm lajj",
          "tevaitoa",
          "vardo",
          "flinders",
          "biak",
          "ingham",
          "mar del plata",
          "shrewsbury",
          "palmer",
          "korla",
          "bandarbeyla",
          "bara",
          "murray bridge",
          "airai",
          "bontang",
          "gizo",
          "pacific grove",
          "berlevag",
          "geraldton",
          "tuatapere",
          "ouango",
          "berezovyy",
          "cidreira",
          "saint-augustin",
          "martapura",
          "nirmal",
          "mogadishu",
          "radhanpur",
          "vostok",
          "upernavik",
          "kaeo",
          "sioux lookout",
          "challapata",
          "kijang",
          "san patricio",
          "kyren",
          "kavaratti",
          "general roca",
          "labuhan",
          "sigli",
          "khatanga",
          "stargard szczecinski",
          "clyde river",
          "acapulco",
          "tahta",
          "beringovskiy",
          "iqaluit",
          "nadym",
          "zhezkazgan",
          "birao",
          "faya",
          "deputatskiy",
          "sur",
          "daru",
          "coahuayana",
          "moultonborough",
          "hearst",
          "mahebourg",
          "chiredzi",
          "talara",
          "bin qirdan",
          "byron bay",
          "tatawin",
          "strezhevoy",
          "kavieng",
          "kampot",
          "bethel",
          "dunedin",
          "dubbo",
          "sao joao da barra",
          "nouadhibou",
          "salinas",
          "bhuban",
          "mitu",
          "ramsar",
          "xining",
          "qaqortoq",
          "tuxpan",
          "fairbanks",
          "san cristobal",
          "chaozhou",
          "jimenez",
          "komsomolskiy",
          "pevek",
          "southbridge",
          "mecca",
          "laredo",
          "voh",
          "worthington",
          "safranbolu",
          "atar",
          "risor",
          "grand gaube",
          "san policarpo",
          "buchanan",
          "boppard",
          "laguna",
          "augusta",
          "bengkulu",
          "isangel",
          "pontianak",
          "moose factory",
          "lishu",
          "havelock",
          "wau",
          "itarema",
          "mandera",
          "aykhal",
          "cayhagan",
          "pochutla",
          "sao joao do piaui",
          "cape canaveral",
          "henties bay",
          "pangnirtung",
          "kayerkan",
          "sola",
          "lazaro cardenas",
          "arauca",
          "inverell",
          "burnie",
          "hambantota",
          "presidente medici",
          "ulaanbaatar",
          "taitung",
          "ereymentau",
          "baruun-urt",
          "kropotkin",
          "saint-francois",
          "carutapera",
          "hami",
          "mpika",
          "chokurdakh",
          "caratinga",
          "puerto escondido",
          "moba",
          "yulara",
          "seoul",
          "camacha",
          "nioro",
          "north bend",
          "iguape",
          "princeton",
          "havoysund",
          "buraydah",
          "leua",
          "manakara",
          "reconquista",
          "hualmay",
          "bahia blanca",
          "san lorenzo",
          "sao filipe",
          "evensk",
          "phu ly",
          "kiruna",
          "saint-joseph",
          "tateyama",
          "hammerfest",
          "praxedis guerrero",
          "almeirim",
          "pitsunda",
          "saint george",
          "blagoyevo",
          "constitucion",
          "auki",
          "kurud",
          "puerto rico",
          "naze",
          "bo rai",
          "ponta delgada",
          "mount isa",
          "ust-omchug",
          "buala",
          "severo-yeniseyskiy",
          "beira",
          "havre-saint-pierre",
          "portland",
          "conakry",
          "cam ranh",
          "sorong",
          "pimentel",
          "barcelos",
          "aktash",
          "garowe",
          "hasaki",
          "camargo",
          "arman",
          "saldanha",
          "yarmouth",
          "alyangula",
          "kodinsk",
          "chermoz",
          "haines junction",
          "wenatchee",
          "dzilam gonzalez",
          "tyler",
          "rio brilhante",
          "kamena vourla",
          "hobyo",
          "zhangye",
          "dadri",
          "cairns",
          "hamilton",
          "zhanakorgan",
          "yichun",
          "severodvinsk",
          "praya",
          "sant feliu de guixols",
          "tilichiki",
          "herat",
          "teya",
          "tura",
          "nemuro",
          "ippy",
          "karratha",
          "longyearbyen",
          "andenes",
          "yunguyo",
          "walvis bay",
          "vitim",
          "lorengau",
          "coro",
          "road town",
          "kurumkan",
          "boende",
          "lac du bonnet",
          "ca mau",
          "kalianget",
          "alofi",
          "san vicente",
          "kudahuvadhoo",
          "thai binh",
          "jamundi",
          "angoche",
          "dwarka",
          "hovd",
          "soe",
          "lata",
          "ferrol",
          "kidal",
          "darab",
          "oussouye",
          "mehamn",
          "pontalina",
          "cayeli",
          "panubigan",
          "pachino",
          "pinheiro machado",
          "kaitangata",
          "nanakuli",
          "lanzhou",
          "george",
          "adrar",
          "viedma",
          "touros",
          "kapustin yar",
          "nanortalik",
          "jalu",
          "campo verde",
          "mercedes",
          "kerema",
          "chimore",
          "tashla",
          "sinop",
          "foam lake",
          "sao gabriel da cachoeira",
          "lyndon",
          "kuytun",
          "canutama",
          "tautira",
          "lipin bor",
          "juye",
          "aosta",
          "winnemucca",
          "namatanai",
          "burns lake",
          "paternion",
          "benghazi",
          "leeton",
          "texarkana",
          "mahon",
          "ossora",
          "talaya",
          "port hawkesbury",
          "mitsamiouli",
          "leshukonskoye",
          "mount gambier",
          "tchibanga",
          "darhan",
          "indian head",
          "chase",
          "ellisras",
          "miraflores",
          "westport",
          "plastun",
          "mezen",
          "maragogi",
          "lufilufi",
          "cabo rojo",
          "grand island",
          "richards bay",
          "mochalishche",
          "broken hill",
          "huntsville",
          "sitka",
          "katsuura",
          "khorinsk",
          "conway",
          "salym",
          "sambava",
          "narsaq",
          "alasehir",
          "kloulklubed",
          "tzucacab",
          "katsina",
          "midland",
          "fare",
          "lucapa",
          "gotsu",
          "la grande",
          "kosh-agach",
          "tual",
          "ukiah",
          "rockhampton",
          "porto novo",
          "matara",
          "omsukchan",
          "aklavik",
          "penzance",
          "vila franca do campo",
          "emerald",
          "sangar",
          "pitimbu",
          "powell river",
          "palauig",
          "jining",
          "yavaros",
          "lahad datu",
          "menongue",
          "kulhudhuffushi",
          "port hedland",
          "kruisfontein",
          "jiuquan",
          "isiro",
          "luderitz",
          "miri",
          "lunglei",
          "ugoofaaru",
          "caldwell",
          "deming",
          "boulder",
          "zhigansk",
          "evanston",
          "imbituba",
          "comodoro rivadavia",
          "rosario",
          "natal",
          "pontal do parana",
          "pemba",
          "sri aman",
          "kedrovyy",
          "jiayuguan",
          "paramonga",
          "ouesso",
          "mwinilunga",
          "vangaindrano",
          "polyarnyy",
          "sabang",
          "urumqi",
          "bad oeynhausen",
          "bairnsdale",
          "hanzhong",
          "alamosa",
          "la libertad",
          "souillac",
          "clovis",
          "misratah",
          "minnedosa"
         ],
         "lat": [
          -54.8,
          -23.1203,
          2.3,
          65.6145,
          46.3651,
          48.6,
          5.4112,
          22.8909,
          71.9167,
          -53.15,
          -22.9661,
          -20.2078,
          42.097,
          -42.8794,
          50.8448,
          -33.918,
          -9.8,
          22.0752,
          69.4541,
          59.5833,
          -42.7826,
          55.7435,
          64.1835,
          -34.5322,
          -33.6971,
          27.9769,
          31.6,
          -25.0519,
          -5.5569,
          62.2266,
          -46.6,
          -25.4078,
          -24.0944,
          10.4795,
          -33.65,
          -34.9333,
          32.8882,
          32.2994,
          -8.8368,
          41.7992,
          22.2855,
          -35.7167,
          27.3333,
          24.6877,
          -45.5752,
          -37.6167,
          47.6667,
          4.9333,
          -0.7393,
          -33.8667,
          -33.5906,
          -33.9258,
          -24.7911,
          38.7333,
          23.1935,
          21.4612,
          38.5167,
          6.9833,
          -26.7608,
          59.7035,
          -15.8631,
          4.1363,
          -8.7537,
          -34.4187,
          31.61,
          49.7502,
          -21.2,
          51.1107,
          21.3469,
          62.456,
          38.8876,
          22.8333,
          58.3019,
          47.6666,
          -10.6167,
          -13.6261,
          41.7543,
          -21.3585,
          34.6391,
          71.6872,
          47.8405,
          0.5333,
          47.1724,
          19.7297,
          50.6789,
          13.7332,
          77.484,
          63.4427,
          10.9995,
          69.3833,
          64.8945,
          -33.0153,
          -12.7761,
          8.2,
          73.5069,
          49.6311,
          56.2501,
          58.211999999999996,
          -46.1927,
          46.4333,
          -34.7333,
          57.79,
          39.9635,
          18.8003,
          66.8333,
          40.1774,
          -0.9492,
          -24.8667,
          68.0531,
          68.75,
          -38.5473,
          28.1198,
          44.0787,
          29.0605,
          11.6667,
          37.6667,
          69.2167,
          66.0449,
          64.3833,
          64.75,
          24.4667,
          -18.8706,
          51.0693,
          -19.8,
          -41.8697,
          66.3167,
          50.6996,
          67.667,
          -5.0892,
          -0.6,
          34.6667,
          65.5833,
          3.0707,
          68.3065,
          -20.3428,
          48.1513,
          65.282,
          -21.2078,
          7.1333,
          31.4167,
          32.6667,
          4.1213,
          -25.4977,
          29.9697,
          -17.8833,
          9.35,
          -25.4,
          -38.2667,
          41.7919,
          20.8947,
          58.8053,
          -15.1165,
          20.75,
          55.2522,
          17.0151,
          5.3998,
          40.2833,
          -21.0415,
          42.6001,
          27.8806,
          45.0205,
          1.7427,
          -35.6167,
          -9.8756,
          39.4547,
          45.7625,
          -45.4167,
          58.5667,
          -5.1241,
          34.4839,
          -20.2333,
          -3.3167,
          -17.4,
          71.2906,
          44.8342,
          -15.1961,
          25.0213,
          -16.7833,
          70.3705,
          -34.5833,
          -0.9131,
          42.6,
          -38.0023,
          52.7101,
          42.1584,
          41.7597,
          9.4942,
          10.3744,
          -35.1167,
          -8.9266,
          0.1333,
          -8.103,
          36.6177,
          70.8578,
          -28.7667,
          -46.1333,
          4.3133,
          51.6667,
          -30.1811,
          51.226000000000006,
          -3.4167,
          19.1,
          2.0371,
          23.8333,
          46.4856,
          72.7868,
          -35.1,
          50.1001,
          -18.9,
          35.2442,
          28.017,
          51.6828,
          10.5669,
          -39.0333,
          -6.8844,
          5.3848,
          71.9667,
          53.3367,
          70.4692,
          16.8634,
          26.7693,
          63.05,
          63.7506,
          65.5333,
          47.8043,
          10.2849,
          18.3851,
          69.3,
          22.5667,
          -9.0763,
          18.7333,
          43.7548,
          49.6835,
          -20.4081,
          -21.05,
          -4.5772,
          33.1378,
          -28.65,
          32.9297,
          60.7333,
          -2.5744,
          10.6167,
          41.3712,
          -45.8742,
          -32.25,
          -21.6403,
          20.930999999999997,
          36.6777,
          20.8833,
          1.1983,
          36.9226,
          36.6167,
          60.7167,
          19.55,
          64.8378,
          7.7669,
          23.6651,
          28.3333,
          40.4272,
          69.7008,
          42.0751,
          21.4267,
          27.5064,
          -20.9667,
          40.0931,
          41.2508,
          20.5169,
          58.7206,
          -20.0064,
          12.1791,
          5.8808,
          50.2308,
          38.421,
          48.3667,
          -3.8004,
          -19.55,
          -0.0333,
          51.2585,
          43.3047,
          34.8791,
          7.7029,
          -2.9248,
          3.9366,
          66,
          9.6697,
          15.7432,
          -8.3581,
          28.4058,
          -22.116,
          66.1451,
          69.3497,
          -13.8833,
          17.9583,
          7.0847,
          -29.7833,
          -41.0667,
          6.1241,
          -11.1753,
          47.9077,
          22.7583,
          51.6199,
          46.6806,
          45.4375,
          46.4154,
          -1.195,
          42.8,
          -11.8343,
          70.6333,
          -19.7897,
          15.85,
          33.2288,
          -25.2406,
          37.5683,
          33.0833,
          13.35,
          43.4065,
          -24.7081,
          25.5384,
          70.9963,
          26.326,
          48.2156,
          -22.1333,
          -29.15,
          -11.0964,
          -38.7196,
          -25.3333,
          14.8961,
          61.95,
          20.5411,
          67.8557,
          -21.3667,
          34.9833,
          70.6634,
          31.3667,
          -1.5233,
          43.1592,
          37.1041,
          63.3667,
          -35.3333,
          -8.7676,
          20.8322,
          -26.796,
          28.3667,
          12.5728,
          37.7333,
          -20.7333,
          61.15,
          -8.145,
          60.3725,
          -19.8436,
          50.2334,
          45.5234,
          9.538,
          11.9214,
          -0.8833,
          -6.8367,
          41.5388,
          50.3,
          8.4054,
          35.7333,
          27.6667,
          59.7,
          -33.0117,
          41.7057,
          -13.8483,
          58.6881,
          58.787,
          60.7522,
          47.4235,
          21.2833,
          32.3513,
          -21.8019,
          38.7784,
          5.3505,
          38.9342,
          28.5667,
          -16.9167,
          39.1834,
          43.9098,
          47.7,
          64.5635,
          14.9215,
          41.7833,
          60.4667,
          34.5,
          60.3778,
          25.5198,
          43.3236,
          6.2679,
          -20.7377,
          78.2186,
          69.3143,
          -16.25,
          -22.9575,
          59.4511,
          -2.0226,
          11.4045,
          18.4167,
          54.3,
          -0.2167,
          50.2536,
          9.1769,
          -7.05,
          -19.0595,
          -26.6167,
          2.6708,
          20.45,
          3.2607,
          -16.2325,
          22.2394,
          48.0056,
          -9.8607,
          40.1629,
          43.4832,
          18.4411,
          28.7519,
          12.485,
          71.0357,
          -17.525,
          41.0923,
          7.4281,
          36.7186,
          -31.5783,
          -46.2817,
          21.3906,
          36.0564,
          -33.963,
          20.5022,
          -40.8135,
          -5.1989,
          48.5831,
          60.1432,
          29.0331,
          -20.4167,
          -34.6515,
          -7.9631,
          -16.9833,
          51.7716,
          41.7711,
          51.65,
          -0.1303,
          38.2567,
          54.3419,
          -6.5339,
          -17.7333,
          60.2622,
          35.3947,
          45.7667,
          40.973,
          -3.6667,
          54.2331,
          46.7142,
          32.1167,
          -34.5667,
          33.4251,
          39.8885,
          59.2353,
          61.3833,
          45.6169,
          -11.3847,
          64.8989,
          -37.8333,
          -2.85,
          49.4867,
          38.6001,
          50.8165,
          -23.6649,
          19.2167,
          41.1415,
          44.7561,
          65.8522,
          -9.0122,
          -13.8745,
          18.0866,
          40.925,
          -28.783,
          56.3306,
          -31.95,
          34.7304,
          57.0531,
          35.1333,
          52.1657,
          35.0887,
          60.0625,
          -14.2667,
          60.9167,
          38.3508,
          7.0419,
          20.0667,
          12.9894,
          31.9974,
          -16.7,
          -8.4192,
          35,
          45.3246,
          50,
          -5.6667,
          39.1502,
          -23.3833,
          6.4965,
          5.9485,
          62.5333,
          68.2191,
          50.1186,
          37.7167,
          -23.5333,
          63.9242,
          -7.4706,
          49.8496,
          15.435,
          35.405,
          26.7,
          5.0268,
          -14.6585,
          6.6221,
          -20.3167,
          -34.0033,
          39.7432,
          2.7739,
          -26.6481,
          4.4148,
          22.8833,
          5.6667,
          43.6629,
          32.2687,
          40.0833,
          66.7697,
          42.0411,
          -28.24,
          -45.8667,
          -32.9468,
          -5.795,
          -25.6533,
          -12.974,
          1.2376,
          56.1667,
          39.8167,
          -10.6667,
          1.6136,
          -11.7358,
          -23.35,
          69.1989,
          5.8933,
          43.801,
          52.2,
          -37.8333,
          33.0728,
          37.4695,
          -2.2333,
          -20.5167,
          36.8252,
          32.3754,
          50.2453
         ],
         "legendgroup": "",
         "lon": [
          -68.3,
          -134.9692,
          111.8167,
          -37.6368,
          33.5403,
          133.8167,
          100.3354,
          -109.9124,
          114.0833,
          -70.9167,
          -42.0278,
          57.7625,
          -79.2353,
          147.3294,
          37.2913,
          25.5701,
          -139.0333,
          -159.319,
          -133.0374,
          151.2833,
          147.0587,
          -97.8558,
          -51.7216,
          20.0403,
          -53.4616,
          -114.0611,
          131.3667,
          33.6442,
          -80.8222,
          -6.5889999999999995,
          168.3333,
          -52.4161,
          25.0298,
          16.7117,
          115.3333,
          138.6,
          -84.3266,
          -9.2372,
          13.2343,
          -85.4192,
          114.1577,
          150.1833,
          88.6167,
          46.7219,
          -72.0662,
          -73.65,
          23.8667,
          -52.3333,
          -90.3518,
          121.9,
          26.891,
          18.4232,
          -50.0119,
          -27.0667,
          116.6142,
          -71.1419,
          -28.7,
          35.5833,
          -53.1725,
          30.7861,
          -38.8828,
          96.1285,
          148.2534,
          19.2345,
          34.7642,
          -77.6328,
          -175.2,
          15.5858,
          -158.0858,
          -114.3525,
          -76.5119,
          104.9833,
          -134.4197,
          -52.7314,
          150.6667,
          -41.3269,
          47.9306,
          55.7679,
          -120.4579,
          128.8694,
          -83.4034,
          72.9333,
          8.5174,
          -155.09,
          156.125,
          -84.7773,
          -69.3632,
          -20.2734,
          122.6711,
          178.4167,
          -23.7142,
          27.9116,
          15.7392,
          -59.7833,
          80.5464,
          72.8539,
          -117.286,
          30.7127,
          168.8643,
          26.4,
          135.8667,
          -152.4072,
          -4.8308,
          110.3967,
          70.8333,
          122.1228,
          100.3543,
          113.6333,
          39.5131,
          161.3,
          -58.7368,
          -15.5233,
          -80.2041,
          -13.564,
          92.75,
          21.6167,
          -51.1,
          -17.3389,
          -173.3,
          177.4833,
          54.3667,
          -48.8808,
          -1.7957,
          -174.35,
          -73.8203,
          -179.1667,
          -127.4199,
          12.6934,
          -81.1144,
          73.0833,
          138.95,
          -171,
          172.7902,
          -53.4641,
          57.7575,
          17.8806,
          -126.8329,
          -159.775,
          40.7,
          130.3167,
          -17.1,
          43.8894,
          28.1007,
          40.2064,
          30.7,
          42.8,
          -70.4833,
          141.9667,
          120.7792,
          -156.47,
          -122.7002,
          39.2666,
          78.6167,
          22.2897,
          54.0924,
          26.4869,
          97.2,
          -57.8738,
          -73.9662,
          -80.5003,
          -93.21799999999999,
          98.7792,
          174.5,
          -56.0861,
          75.9797,
          106.2708,
          167.7167,
          5.7,
          120.25299999999999,
          -114.3224,
          164.0167,
          17.3667,
          15.8833,
          -156.7887,
          -87.37700000000001,
          12.1522,
          37.2685,
          -151.5,
          31.1107,
          150.8552,
          122.8766,
          -84.3833,
          -57.5575,
          -2.7521,
          -72.3287,
          86.1469,
          50.8122,
          10.7288,
          139.2667,
          125.4092,
          117.5,
          156.8419,
          -121.9166,
          29.0864,
          114.6,
          167.6833,
          22.5552,
          135.7,
          -50.2056,
          -58.6502,
          114.85,
          78.35,
          45.3438,
          71.6,
          135.8833,
          -56.1549,
          173.7833,
          -91.917,
          -66.7667,
          129.2139,
          -97.5169,
          102.1408,
          72.642,
          -67.5833,
          112.2051,
          95.9609,
          102.5,
          15.0499,
          -68.5914,
          -99.8901,
          31.5021,
          179.3167,
          -68.5145,
          72.5167,
          67.7144,
          22.7882,
          42.4509,
          139.9,
          59.5289,
          143.2092,
          -103.6833,
          -71.3967,
          -83.6665,
          57.7,
          31.6667,
          -81.2719,
          11.2197,
          153.6167,
          10.4518,
          77.5889,
          150.7967,
          104.1833,
          -73.414,
          170.5036,
          148.6167,
          -41.0511,
          -17.0347,
          -121.6555,
          85.8333,
          -70.1733,
          50.6426,
          101.7667,
          -46.0333,
          -103.4,
          -147.7164,
          -72.225,
          116.6379,
          -105.4,
          71.7189,
          170.3133,
          -72.0334,
          39.8261,
          -99.5075,
          164.7,
          -83.01799999999999,
          32.6942,
          -13.0499,
          9.2342,
          57.6608,
          125.5072,
          -10.0467,
          7.5899,
          -121.4238,
          10.8833,
          102.2655,
          169.2667,
          109.3333,
          -80.6094,
          124.3278,
          -76.9013,
          27.9953,
          -39.9167,
          41.867,
          111.5,
          122.4256,
          -96.4661,
          -42.2467,
          -80.6048,
          14.2845,
          -65.7125,
          87.7602,
          167.55,
          -102.2,
          -70.7591,
          151.1167,
          145.9167,
          81.1185,
          -61.9014,
          106.8832,
          121.1444,
          73.1033,
          113.2792,
          40.5756,
          3.9054,
          -46.02,
          93.45,
          31.4529,
          147.9167,
          -42.1392,
          -97.0667,
          105.0179,
          130.9889,
          126.9778,
          -16.3333,
          -15.75,
          -124.2243,
          -47.5553,
          -80.4089,
          24.6622,
          43.975,
          18.6071,
          48.0167,
          -59.65,
          -77.6139,
          -62.2724,
          -57.5333,
          -24.4956,
          159.2333,
          105.9139,
          20.2251,
          55.6167,
          139.8667,
          23.6821,
          -106.0167,
          -52.5817,
          40.3378,
          -113.5841,
          47.9167,
          -72.4167,
          160.7034,
          81.7214,
          -55.023999999999994,
          129.4833,
          102.5371,
          -25.6667,
          139.5,
          149.6333,
          159.5921,
          93.0408,
          34.8389,
          -63.5986,
          -122.6762,
          -13.6773,
          109.1591,
          131.25,
          -79.9342,
          -8.6151,
          87.7333,
          48.4845,
          140.8333,
          -105.1667,
          150.1667,
          17.9442,
          -70.2286,
          136.4192,
          99.1844,
          56.1489,
          -137.5108,
          -120.3103,
          -88.9333,
          -95.3011,
          -54.5464,
          22.7857,
          48.5268,
          100.4517,
          77.55,
          145.7667,
          -84.5333,
          67.2495,
          128.9,
          39.8302,
          -23.5087,
          3.0333,
          166.1,
          62,
          92.6267,
          90.2201,
          145.575,
          21.2247,
          116.8463,
          15.6401,
          16.1194,
          -69.0833,
          14.5053,
          112.5578,
          147.2712,
          -69.6734,
          -64.6167,
          110.3,
          20.8667,
          -96.0612,
          105.15,
          113.9333,
          -169.9187,
          -54.1333,
          72.8944,
          106.3333,
          -76.535,
          39.9086,
          68.9678,
          91.6419,
          124.28399999999999,
          -8.3327,
          -8.2369,
          1.4078,
          54.5444,
          -16.5469,
          27.8492,
          -49.4472,
          40.7292,
          123.3466,
          15.0907,
          -53.3811,
          169.8464,
          -158.1547,
          103.7922,
          22.4617,
          -10.0711,
          -62.9967,
          -35.4608,
          45.7372,
          -45.2371,
          21.5482,
          -54.0667,
          -59.4307,
          145.7785,
          -65.1333,
          52.7427,
          34.8709,
          -103.5343,
          -67.0892,
          -85.6016,
          101.5036,
          -64.3831,
          -149.15,
          37.9763,
          116.0883,
          7.4167,
          -117.7357,
          152.4333,
          -125.7533,
          13.6361,
          20.0667,
          146.4,
          -94.0477,
          4.2658,
          163.0719,
          152.75,
          -61.3485,
          43.2844,
          45.7622,
          140.7667,
          11.0333,
          105.9228,
          -77.1622,
          -119.6857,
          27.7443,
          -98.8083,
          -73.3579,
          136.2939,
          44.24,
          -35.2225,
          -171.5986,
          -67.1457,
          -98.34200000000001,
          32.0377,
          48.3547,
          141.4333,
          -86.5861,
          -135.33,
          140.3,
          109.7726,
          -92.4421,
          71.4789,
          50.1667,
          -46.05,
          28.5172,
          134.2556,
          -89.05,
          7.6006,
          -102.0779,
          -151.0167,
          20.7447,
          132.2167,
          -118.0877,
          88.6667,
          132.75,
          -123.2078,
          150.5,
          2.6036,
          80.5353,
          155.8,
          -135.0107,
          -5.5371,
          -25.4333,
          148.1667,
          127.4739,
          -34.8086,
          -124.5361,
          119.9045,
          116.5814,
          -109.5167,
          118.32700000000001,
          17.691,
          73.07,
          118.5667,
          24.7314,
          98.5174,
          27.616,
          15.1594,
          114.0089,
          92.7333,
          73,
          -116.6874,
          -107.7586,
          -105.3505,
          123.3711,
          -87.6901,
          -48.6703,
          -67.5,
          -60.6393,
          -35.2094,
          -48.5128,
          40.5178,
          111.4621,
          91.8167,
          98.3,
          -77.8333,
          16.0517,
          24.4293,
          47.6,
          33.4478,
          95.3214,
          87.6005,
          8.8,
          147.6167,
          107.0303,
          -105.87,
          -80.9,
          57.5167,
          -119.7029,
          15.0925,
          -99.8436
         ],
         "marker": {
          "color": "fuchsia",
          "size": [
           66,
           69,
           98,
           98,
           51,
           60,
           86,
           64,
           93,
           59,
           53,
           77,
           69,
           79,
           88,
           79,
           77,
           89,
           90,
           76,
           64,
           95,
           69,
           93,
           55,
           54,
           87,
           74,
           57,
           89,
           75,
           47,
           33,
           22,
           89,
           70,
           74,
           69,
           79,
           81,
           94,
           81,
           66,
           27,
           49,
           77,
           83,
           62,
           78,
           77,
           87,
           67,
           53,
           100,
           91,
           65,
           94,
           91,
           55,
           79,
           81,
           97,
           94,
           92,
           100,
           61,
           88,
           68,
           79,
           89,
           71,
           79,
           97,
           69,
           80,
           91,
           86,
           84,
           87,
           99,
           67,
           73,
           92,
           94,
           81,
           73,
           57,
           75,
           90,
           94,
           70,
           86,
           91,
           66,
           92,
           60,
           98,
           80,
           63,
           83,
           75,
           60,
           80,
           75,
           93,
           36,
           88,
           83,
           92,
           97,
           36,
           72,
           74,
           78,
           71,
           69,
           46,
           98,
           78,
           94,
           74,
           59,
           78,
           86,
           65,
           93,
           82,
           83,
           68,
           76,
           67,
           83,
           70,
           60,
           77,
           53,
           96,
           73,
           64,
           63,
           89,
           61,
           48,
           36,
           79,
           53,
           68,
           93,
           28,
           75,
           91,
           60,
           56,
           90,
           69,
           67,
           48,
           30,
           52,
           75,
           75,
           91,
           86,
           40,
           34,
           37,
           88,
           85,
           88,
           58,
           74,
           88,
           19,
           85,
           82,
           77,
           51,
           84,
           87,
           84,
           85,
           72,
           78,
           78,
           51,
           35,
           72,
           26,
           89,
           92,
           79,
           77,
           79,
           87,
           88,
           85,
           92,
           75,
           44,
           28,
           89,
           64,
           80,
           36,
           74,
           52,
           96,
           59,
           9,
           50,
           69,
           71,
           68,
           9,
           78,
           90,
           96,
           63,
           95,
           70,
           30,
           91,
           67,
           86,
           58,
           25,
           79,
           90,
           50,
           81,
           67,
           54,
           71,
           77,
           44,
           68,
           41,
           69,
           27,
           98,
           75,
           94,
           58,
           69,
           93,
           77,
           58,
           80,
           60,
           62,
           75,
           68,
           60,
           59,
           84,
           63,
           90,
           21,
           76,
           98,
           55,
           44,
           88,
           82,
           80,
           88,
           6,
           95,
           71,
           82,
           77,
           83,
           86,
           90,
           87,
           87,
           88,
           66,
           39,
           87,
           34,
           57,
           37,
           91,
           85,
           63,
           41,
           71,
           74,
           92,
           91,
           73,
           74,
           75,
           90,
           73,
           100,
           28,
           78,
           86,
           58,
           62,
           70,
           94,
           64,
           37,
           31,
           93,
           91,
           70,
           78,
           30,
           34,
           78,
           22,
           100,
           46,
           73,
           89,
           43,
           68,
           92,
           21,
           69,
           18,
           31,
           55,
           75,
           63,
           100,
           84,
           68,
           81,
           36,
           47,
           69,
           68,
           97,
           65,
           88,
           63,
           33,
           83,
           83,
           94,
           22,
           94,
           82,
           97,
           79,
           47,
           92,
           70,
           73,
           85,
           60,
           72,
           58,
           49,
           59,
           23,
           75,
           85,
           66,
           59,
           98,
           88,
           96,
           89,
           88,
           86,
           41,
           65,
           67,
           36,
           41,
           77,
           80,
           46,
           61,
           90,
           35,
           51,
           98,
           44,
           97,
           93,
           67,
           62,
           48,
           80,
           93,
           39,
           68,
           93,
           77,
           61,
           74,
           59,
           91,
           70,
           97,
           77,
           81,
           34,
           80,
           62,
           62,
           77,
           66,
           78,
           92,
           98,
           62,
           9,
           52,
           25,
           87,
           59,
           72,
           84,
           64,
           53,
           60,
           71,
           62,
           94,
           8,
           14,
           57,
           70,
           69,
           43,
           38,
           12,
           85,
           23,
           95,
           94,
           75,
           67,
           73,
           77,
           37,
           82,
           94,
           80,
           88,
           69,
           81,
           59,
           96,
           59,
           87,
           68,
           78,
           89,
           98,
           67,
           76,
           99,
           96,
           86,
           60,
           72,
           68,
           47,
           48,
           62,
           49,
           90,
           62,
           78,
           70,
           82,
           86,
           94,
           59,
           66,
           65,
           71,
           67,
           66,
           94,
           80,
           57,
           31,
           73,
           96,
           17,
           73,
           84,
           67,
           76,
           93,
           40,
           70,
           91,
           77,
           66,
           86,
           100,
           94,
           82,
           95,
           66,
           93,
           65,
           87,
           84,
           76,
           66,
           95,
           59,
           75,
           68,
           67,
           48,
           98,
           74,
           87,
           90,
           75,
           87,
           62,
           63,
           96,
           61,
           65,
           33,
           22,
           61,
           65,
           80,
           99,
           81,
           47,
           71,
           83,
           96,
           92,
           88,
           84,
           61,
           74,
           89,
           82,
           75,
           73,
           75,
           88,
           51,
           65
          ],
          "sizemode": "area",
          "sizeref": 0.25
         },
         "mode": "markers",
         "name": "",
         "showlegend": false,
         "subplot": "mapbox",
         "type": "scattermapbox"
        }
       ],
       "layout": {
        "height": 800,
        "legend": {
         "itemsizing": "constant",
         "tracegroupgap": 0
        },
        "mapbox": {
         "center": {
          "lat": 18.97813417721519,
          "lon": 17.481837974683543
         },
         "domain": {
          "x": [
           0,
           1
          ],
          "y": [
           0,
           1
          ]
         },
         "style": "open-street-map",
         "zoom": 2
        },
        "margin": {
         "b": 0,
         "l": 0,
         "r": 0,
         "t": 0
        },
        "template": {
         "data": {
          "bar": [
           {
            "error_x": {
             "color": "#2a3f5f"
            },
            "error_y": {
             "color": "#2a3f5f"
            },
            "marker": {
             "line": {
              "color": "#E5ECF6",
              "width": 0.5
             },
             "pattern": {
              "fillmode": "overlay",
              "size": 10,
              "solidity": 0.2
             }
            },
            "type": "bar"
           }
          ],
          "barpolar": [
           {
            "marker": {
             "line": {
              "color": "#E5ECF6",
              "width": 0.5
             },
             "pattern": {
              "fillmode": "overlay",
              "size": 10,
              "solidity": 0.2
             }
            },
            "type": "barpolar"
           }
          ],
          "carpet": [
           {
            "aaxis": {
             "endlinecolor": "#2a3f5f",
             "gridcolor": "white",
             "linecolor": "white",
             "minorgridcolor": "white",
             "startlinecolor": "#2a3f5f"
            },
            "baxis": {
             "endlinecolor": "#2a3f5f",
             "gridcolor": "white",
             "linecolor": "white",
             "minorgridcolor": "white",
             "startlinecolor": "#2a3f5f"
            },
            "type": "carpet"
           }
          ],
          "choropleth": [
           {
            "colorbar": {
             "outlinewidth": 0,
             "ticks": ""
            },
            "type": "choropleth"
           }
          ],
          "contour": [
           {
            "colorbar": {
             "outlinewidth": 0,
             "ticks": ""
            },
            "colorscale": [
             [
              0,
              "#0d0887"
             ],
             [
              0.1111111111111111,
              "#46039f"
             ],
             [
              0.2222222222222222,
              "#7201a8"
             ],
             [
              0.3333333333333333,
              "#9c179e"
             ],
             [
              0.4444444444444444,
              "#bd3786"
             ],
             [
              0.5555555555555556,
              "#d8576b"
             ],
             [
              0.6666666666666666,
              "#ed7953"
             ],
             [
              0.7777777777777778,
              "#fb9f3a"
             ],
             [
              0.8888888888888888,
              "#fdca26"
             ],
             [
              1,
              "#f0f921"
             ]
            ],
            "type": "contour"
           }
          ],
          "contourcarpet": [
           {
            "colorbar": {
             "outlinewidth": 0,
             "ticks": ""
            },
            "type": "contourcarpet"
           }
          ],
          "heatmap": [
           {
            "colorbar": {
             "outlinewidth": 0,
             "ticks": ""
            },
            "colorscale": [
             [
              0,
              "#0d0887"
             ],
             [
              0.1111111111111111,
              "#46039f"
             ],
             [
              0.2222222222222222,
              "#7201a8"
             ],
             [
              0.3333333333333333,
              "#9c179e"
             ],
             [
              0.4444444444444444,
              "#bd3786"
             ],
             [
              0.5555555555555556,
              "#d8576b"
             ],
             [
              0.6666666666666666,
              "#ed7953"
             ],
             [
              0.7777777777777778,
              "#fb9f3a"
             ],
             [
              0.8888888888888888,
              "#fdca26"
             ],
             [
              1,
              "#f0f921"
             ]
            ],
            "type": "heatmap"
           }
          ],
          "heatmapgl": [
           {
            "colorbar": {
             "outlinewidth": 0,
             "ticks": ""
            },
            "colorscale": [
             [
              0,
              "#0d0887"
             ],
             [
              0.1111111111111111,
              "#46039f"
             ],
             [
              0.2222222222222222,
              "#7201a8"
             ],
             [
              0.3333333333333333,
              "#9c179e"
             ],
             [
              0.4444444444444444,
              "#bd3786"
             ],
             [
              0.5555555555555556,
              "#d8576b"
             ],
             [
              0.6666666666666666,
              "#ed7953"
             ],
             [
              0.7777777777777778,
              "#fb9f3a"
             ],
             [
              0.8888888888888888,
              "#fdca26"
             ],
             [
              1,
              "#f0f921"
             ]
            ],
            "type": "heatmapgl"
           }
          ],
          "histogram": [
           {
            "marker": {
             "pattern": {
              "fillmode": "overlay",
              "size": 10,
              "solidity": 0.2
             }
            },
            "type": "histogram"
           }
          ],
          "histogram2d": [
           {
            "colorbar": {
             "outlinewidth": 0,
             "ticks": ""
            },
            "colorscale": [
             [
              0,
              "#0d0887"
             ],
             [
              0.1111111111111111,
              "#46039f"
             ],
             [
              0.2222222222222222,
              "#7201a8"
             ],
             [
              0.3333333333333333,
              "#9c179e"
             ],
             [
              0.4444444444444444,
              "#bd3786"
             ],
             [
              0.5555555555555556,
              "#d8576b"
             ],
             [
              0.6666666666666666,
              "#ed7953"
             ],
             [
              0.7777777777777778,
              "#fb9f3a"
             ],
             [
              0.8888888888888888,
              "#fdca26"
             ],
             [
              1,
              "#f0f921"
             ]
            ],
            "type": "histogram2d"
           }
          ],
          "histogram2dcontour": [
           {
            "colorbar": {
             "outlinewidth": 0,
             "ticks": ""
            },
            "colorscale": [
             [
              0,
              "#0d0887"
             ],
             [
              0.1111111111111111,
              "#46039f"
             ],
             [
              0.2222222222222222,
              "#7201a8"
             ],
             [
              0.3333333333333333,
              "#9c179e"
             ],
             [
              0.4444444444444444,
              "#bd3786"
             ],
             [
              0.5555555555555556,
              "#d8576b"
             ],
             [
              0.6666666666666666,
              "#ed7953"
             ],
             [
              0.7777777777777778,
              "#fb9f3a"
             ],
             [
              0.8888888888888888,
              "#fdca26"
             ],
             [
              1,
              "#f0f921"
             ]
            ],
            "type": "histogram2dcontour"
           }
          ],
          "mesh3d": [
           {
            "colorbar": {
             "outlinewidth": 0,
             "ticks": ""
            },
            "type": "mesh3d"
           }
          ],
          "parcoords": [
           {
            "line": {
             "colorbar": {
              "outlinewidth": 0,
              "ticks": ""
             }
            },
            "type": "parcoords"
           }
          ],
          "pie": [
           {
            "automargin": true,
            "type": "pie"
           }
          ],
          "scatter": [
           {
            "fillpattern": {
             "fillmode": "overlay",
             "size": 10,
             "solidity": 0.2
            },
            "type": "scatter"
           }
          ],
          "scatter3d": [
           {
            "line": {
             "colorbar": {
              "outlinewidth": 0,
              "ticks": ""
             }
            },
            "marker": {
             "colorbar": {
              "outlinewidth": 0,
              "ticks": ""
             }
            },
            "type": "scatter3d"
           }
          ],
          "scattercarpet": [
           {
            "marker": {
             "colorbar": {
              "outlinewidth": 0,
              "ticks": ""
             }
            },
            "type": "scattercarpet"
           }
          ],
          "scattergeo": [
           {
            "marker": {
             "colorbar": {
              "outlinewidth": 0,
              "ticks": ""
             }
            },
            "type": "scattergeo"
           }
          ],
          "scattergl": [
           {
            "marker": {
             "colorbar": {
              "outlinewidth": 0,
              "ticks": ""
             }
            },
            "type": "scattergl"
           }
          ],
          "scattermapbox": [
           {
            "marker": {
             "colorbar": {
              "outlinewidth": 0,
              "ticks": ""
             }
            },
            "type": "scattermapbox"
           }
          ],
          "scatterpolar": [
           {
            "marker": {
             "colorbar": {
              "outlinewidth": 0,
              "ticks": ""
             }
            },
            "type": "scatterpolar"
           }
          ],
          "scatterpolargl": [
           {
            "marker": {
             "colorbar": {
              "outlinewidth": 0,
              "ticks": ""
             }
            },
            "type": "scatterpolargl"
           }
          ],
          "scatterternary": [
           {
            "marker": {
             "colorbar": {
              "outlinewidth": 0,
              "ticks": ""
             }
            },
            "type": "scatterternary"
           }
          ],
          "surface": [
           {
            "colorbar": {
             "outlinewidth": 0,
             "ticks": ""
            },
            "colorscale": [
             [
              0,
              "#0d0887"
             ],
             [
              0.1111111111111111,
              "#46039f"
             ],
             [
              0.2222222222222222,
              "#7201a8"
             ],
             [
              0.3333333333333333,
              "#9c179e"
             ],
             [
              0.4444444444444444,
              "#bd3786"
             ],
             [
              0.5555555555555556,
              "#d8576b"
             ],
             [
              0.6666666666666666,
              "#ed7953"
             ],
             [
              0.7777777777777778,
              "#fb9f3a"
             ],
             [
              0.8888888888888888,
              "#fdca26"
             ],
             [
              1,
              "#f0f921"
             ]
            ],
            "type": "surface"
           }
          ],
          "table": [
           {
            "cells": {
             "fill": {
              "color": "#EBF0F8"
             },
             "line": {
              "color": "white"
             }
            },
            "header": {
             "fill": {
              "color": "#C8D4E3"
             },
             "line": {
              "color": "white"
             }
            },
            "type": "table"
           }
          ]
         },
         "layout": {
          "annotationdefaults": {
           "arrowcolor": "#2a3f5f",
           "arrowhead": 0,
           "arrowwidth": 1
          },
          "autotypenumbers": "strict",
          "coloraxis": {
           "colorbar": {
            "outlinewidth": 0,
            "ticks": ""
           }
          },
          "colorscale": {
           "diverging": [
            [
             0,
             "#8e0152"
            ],
            [
             0.1,
             "#c51b7d"
            ],
            [
             0.2,
             "#de77ae"
            ],
            [
             0.3,
             "#f1b6da"
            ],
            [
             0.4,
             "#fde0ef"
            ],
            [
             0.5,
             "#f7f7f7"
            ],
            [
             0.6,
             "#e6f5d0"
            ],
            [
             0.7,
             "#b8e186"
            ],
            [
             0.8,
             "#7fbc41"
            ],
            [
             0.9,
             "#4d9221"
            ],
            [
             1,
             "#276419"
            ]
           ],
           "sequential": [
            [
             0,
             "#0d0887"
            ],
            [
             0.1111111111111111,
             "#46039f"
            ],
            [
             0.2222222222222222,
             "#7201a8"
            ],
            [
             0.3333333333333333,
             "#9c179e"
            ],
            [
             0.4444444444444444,
             "#bd3786"
            ],
            [
             0.5555555555555556,
             "#d8576b"
            ],
            [
             0.6666666666666666,
             "#ed7953"
            ],
            [
             0.7777777777777778,
             "#fb9f3a"
            ],
            [
             0.8888888888888888,
             "#fdca26"
            ],
            [
             1,
             "#f0f921"
            ]
           ],
           "sequentialminus": [
            [
             0,
             "#0d0887"
            ],
            [
             0.1111111111111111,
             "#46039f"
            ],
            [
             0.2222222222222222,
             "#7201a8"
            ],
            [
             0.3333333333333333,
             "#9c179e"
            ],
            [
             0.4444444444444444,
             "#bd3786"
            ],
            [
             0.5555555555555556,
             "#d8576b"
            ],
            [
             0.6666666666666666,
             "#ed7953"
            ],
            [
             0.7777777777777778,
             "#fb9f3a"
            ],
            [
             0.8888888888888888,
             "#fdca26"
            ],
            [
             1,
             "#f0f921"
            ]
           ]
          },
          "colorway": [
           "#636efa",
           "#EF553B",
           "#00cc96",
           "#ab63fa",
           "#FFA15A",
           "#19d3f3",
           "#FF6692",
           "#B6E880",
           "#FF97FF",
           "#FECB52"
          ],
          "font": {
           "color": "#2a3f5f"
          },
          "geo": {
           "bgcolor": "white",
           "lakecolor": "white",
           "landcolor": "#E5ECF6",
           "showlakes": true,
           "showland": true,
           "subunitcolor": "white"
          },
          "hoverlabel": {
           "align": "left"
          },
          "hovermode": "closest",
          "mapbox": {
           "style": "light"
          },
          "paper_bgcolor": "white",
          "plot_bgcolor": "#E5ECF6",
          "polar": {
           "angularaxis": {
            "gridcolor": "white",
            "linecolor": "white",
            "ticks": ""
           },
           "bgcolor": "#E5ECF6",
           "radialaxis": {
            "gridcolor": "white",
            "linecolor": "white",
            "ticks": ""
           }
          },
          "scene": {
           "xaxis": {
            "backgroundcolor": "#E5ECF6",
            "gridcolor": "white",
            "gridwidth": 2,
            "linecolor": "white",
            "showbackground": true,
            "ticks": "",
            "zerolinecolor": "white"
           },
           "yaxis": {
            "backgroundcolor": "#E5ECF6",
            "gridcolor": "white",
            "gridwidth": 2,
            "linecolor": "white",
            "showbackground": true,
            "ticks": "",
            "zerolinecolor": "white"
           },
           "zaxis": {
            "backgroundcolor": "#E5ECF6",
            "gridcolor": "white",
            "gridwidth": 2,
            "linecolor": "white",
            "showbackground": true,
            "ticks": "",
            "zerolinecolor": "white"
           }
          },
          "shapedefaults": {
           "line": {
            "color": "#2a3f5f"
           }
          },
          "ternary": {
           "aaxis": {
            "gridcolor": "white",
            "linecolor": "white",
            "ticks": ""
           },
           "baxis": {
            "gridcolor": "white",
            "linecolor": "white",
            "ticks": ""
           },
           "bgcolor": "#E5ECF6",
           "caxis": {
            "gridcolor": "white",
            "linecolor": "white",
            "ticks": ""
           }
          },
          "title": {
           "x": 0.05
          },
          "xaxis": {
           "automargin": true,
           "gridcolor": "white",
           "linecolor": "white",
           "ticks": "",
           "title": {
            "standoff": 15
           },
           "zerolinecolor": "white",
           "zerolinewidth": 2
          },
          "yaxis": {
           "automargin": true,
           "gridcolor": "white",
           "linecolor": "white",
           "ticks": "",
           "title": {
            "standoff": 15
           },
           "zerolinecolor": "white",
           "zerolinewidth": 2
          }
         }
        }
       }
      }
     },
     "metadata": {},
     "output_type": "display_data"
    }
   ],
   "source": [
    "#%%capture --no-display\n",
    "\n",
    "# Configure the map plot\n",
    "fig = px.scatter_mapbox(city_data_df, lat=\"Lat\", lon=\"Lng\", hover_name=\"City\", color_discrete_sequence=[\"fuchsia\"], zoom=2, height=800, size=\"Humidity\")\n",
    "fig.update_layout(mapbox_style=\"open-street-map\")\n",
    "fig.update_layout(margin={\"r\":0, \"t\":0, \"l\":0, \"b\":0})\n",
    "\n",
    "# Display the map\n",
    "\n",
    "fig.show()\n"
   ]
  },
  {
   "cell_type": "markdown",
   "metadata": {},
   "source": [
    "### Step 2: Narrow down the `city_data_df` DataFrame to find your ideal weather condition"
   ]
  },
  {
   "cell_type": "code",
   "execution_count": 23,
   "metadata": {},
   "outputs": [
    {
     "data": {
      "text/html": [
       "<div>\n",
       "<style scoped>\n",
       "    .dataframe tbody tr th:only-of-type {\n",
       "        vertical-align: middle;\n",
       "    }\n",
       "\n",
       "    .dataframe tbody tr th {\n",
       "        vertical-align: top;\n",
       "    }\n",
       "\n",
       "    .dataframe thead th {\n",
       "        text-align: right;\n",
       "    }\n",
       "</style>\n",
       "<table border=\"1\" class=\"dataframe\">\n",
       "  <thead>\n",
       "    <tr style=\"text-align: right;\">\n",
       "      <th></th>\n",
       "      <th>City_ID</th>\n",
       "      <th>City</th>\n",
       "      <th>Lat</th>\n",
       "      <th>Lng</th>\n",
       "      <th>Max Temp</th>\n",
       "      <th>Humidity</th>\n",
       "      <th>Cloudiness</th>\n",
       "      <th>Wind Speed</th>\n",
       "      <th>Country</th>\n",
       "      <th>Date</th>\n",
       "    </tr>\n",
       "  </thead>\n",
       "  <tbody>\n",
       "    <tr>\n",
       "      <th>0</th>\n",
       "      <td>0</td>\n",
       "      <td>ushuaia</td>\n",
       "      <td>-54.8000</td>\n",
       "      <td>-68.3000</td>\n",
       "      <td>10.66</td>\n",
       "      <td>66</td>\n",
       "      <td>100</td>\n",
       "      <td>3.13</td>\n",
       "      <td>AR</td>\n",
       "      <td>1667491311</td>\n",
       "    </tr>\n",
       "    <tr>\n",
       "      <th>1</th>\n",
       "      <td>1</td>\n",
       "      <td>rikitea</td>\n",
       "      <td>-23.1203</td>\n",
       "      <td>-134.9692</td>\n",
       "      <td>20.73</td>\n",
       "      <td>69</td>\n",
       "      <td>100</td>\n",
       "      <td>6.80</td>\n",
       "      <td>PF</td>\n",
       "      <td>1667491513</td>\n",
       "    </tr>\n",
       "    <tr>\n",
       "      <th>2</th>\n",
       "      <td>2</td>\n",
       "      <td>sibu</td>\n",
       "      <td>2.3000</td>\n",
       "      <td>111.8167</td>\n",
       "      <td>23.93</td>\n",
       "      <td>98</td>\n",
       "      <td>99</td>\n",
       "      <td>0.84</td>\n",
       "      <td>MY</td>\n",
       "      <td>1667491567</td>\n",
       "    </tr>\n",
       "    <tr>\n",
       "      <th>3</th>\n",
       "      <td>3</td>\n",
       "      <td>tasiilaq</td>\n",
       "      <td>65.6145</td>\n",
       "      <td>-37.6368</td>\n",
       "      <td>1.09</td>\n",
       "      <td>98</td>\n",
       "      <td>100</td>\n",
       "      <td>5.59</td>\n",
       "      <td>GL</td>\n",
       "      <td>1667491568</td>\n",
       "    </tr>\n",
       "    <tr>\n",
       "      <th>4</th>\n",
       "      <td>4</td>\n",
       "      <td>chaplynka</td>\n",
       "      <td>46.3651</td>\n",
       "      <td>33.5403</td>\n",
       "      <td>10.33</td>\n",
       "      <td>51</td>\n",
       "      <td>11</td>\n",
       "      <td>2.22</td>\n",
       "      <td>UA</td>\n",
       "      <td>1667491568</td>\n",
       "    </tr>\n",
       "  </tbody>\n",
       "</table>\n",
       "</div>"
      ],
      "text/plain": [
       "   City_ID       City      Lat       Lng  Max Temp  Humidity  Cloudiness  \\\n",
       "0        0    ushuaia -54.8000  -68.3000     10.66        66         100   \n",
       "1        1    rikitea -23.1203 -134.9692     20.73        69         100   \n",
       "2        2       sibu   2.3000  111.8167     23.93        98          99   \n",
       "3        3   tasiilaq  65.6145  -37.6368      1.09        98         100   \n",
       "4        4  chaplynka  46.3651   33.5403     10.33        51          11   \n",
       "\n",
       "   Wind Speed Country        Date  \n",
       "0        3.13      AR  1667491311  \n",
       "1        6.80      PF  1667491513  \n",
       "2        0.84      MY  1667491567  \n",
       "3        5.59      GL  1667491568  \n",
       "4        2.22      UA  1667491568  "
      ]
     },
     "execution_count": 23,
     "metadata": {},
     "output_type": "execute_result"
    }
   ],
   "source": [
    "city_data_df.head()"
   ]
  },
  {
   "cell_type": "code",
   "execution_count": 24,
   "metadata": {},
   "outputs": [
    {
     "data": {
      "text/html": [
       "<div>\n",
       "<style scoped>\n",
       "    .dataframe tbody tr th:only-of-type {\n",
       "        vertical-align: middle;\n",
       "    }\n",
       "\n",
       "    .dataframe tbody tr th {\n",
       "        vertical-align: top;\n",
       "    }\n",
       "\n",
       "    .dataframe thead th {\n",
       "        text-align: right;\n",
       "    }\n",
       "</style>\n",
       "<table border=\"1\" class=\"dataframe\">\n",
       "  <thead>\n",
       "    <tr style=\"text-align: right;\">\n",
       "      <th></th>\n",
       "      <th>City_ID</th>\n",
       "      <th>City</th>\n",
       "      <th>Lat</th>\n",
       "      <th>Lng</th>\n",
       "      <th>Max Temp</th>\n",
       "      <th>Humidity</th>\n",
       "      <th>Cloudiness</th>\n",
       "      <th>Wind Speed</th>\n",
       "      <th>Country</th>\n",
       "      <th>Date</th>\n",
       "    </tr>\n",
       "  </thead>\n",
       "  <tbody>\n",
       "    <tr>\n",
       "      <th>44</th>\n",
       "      <td>44</td>\n",
       "      <td>coihaique</td>\n",
       "      <td>-45.5752</td>\n",
       "      <td>-72.0662</td>\n",
       "      <td>26.34</td>\n",
       "      <td>49</td>\n",
       "      <td>0</td>\n",
       "      <td>3.09</td>\n",
       "      <td>CL</td>\n",
       "      <td>1667491581</td>\n",
       "    </tr>\n",
       "    <tr>\n",
       "      <th>68</th>\n",
       "      <td>68</td>\n",
       "      <td>makakilo city</td>\n",
       "      <td>21.3469</td>\n",
       "      <td>-158.0858</td>\n",
       "      <td>25.01</td>\n",
       "      <td>79</td>\n",
       "      <td>0</td>\n",
       "      <td>2.57</td>\n",
       "      <td>US</td>\n",
       "      <td>1667491587</td>\n",
       "    </tr>\n",
       "    <tr>\n",
       "      <th>143</th>\n",
       "      <td>143</td>\n",
       "      <td>sakakah</td>\n",
       "      <td>29.9697</td>\n",
       "      <td>40.2064</td>\n",
       "      <td>21.89</td>\n",
       "      <td>36</td>\n",
       "      <td>0</td>\n",
       "      <td>1.79</td>\n",
       "      <td>SA</td>\n",
       "      <td>1667491616</td>\n",
       "    </tr>\n",
       "    <tr>\n",
       "      <th>152</th>\n",
       "      <td>152</td>\n",
       "      <td>wardha</td>\n",
       "      <td>20.7500</td>\n",
       "      <td>78.6167</td>\n",
       "      <td>21.27</td>\n",
       "      <td>56</td>\n",
       "      <td>0</td>\n",
       "      <td>0.89</td>\n",
       "      <td>IN</td>\n",
       "      <td>1667491619</td>\n",
       "    </tr>\n",
       "    <tr>\n",
       "      <th>236</th>\n",
       "      <td>236</td>\n",
       "      <td>bin qirdan</td>\n",
       "      <td>33.1378</td>\n",
       "      <td>11.2197</td>\n",
       "      <td>23.96</td>\n",
       "      <td>41</td>\n",
       "      <td>0</td>\n",
       "      <td>3.36</td>\n",
       "      <td>TN</td>\n",
       "      <td>1667491649</td>\n",
       "    </tr>\n",
       "  </tbody>\n",
       "</table>\n",
       "</div>"
      ],
      "text/plain": [
       "     City_ID           City      Lat       Lng  Max Temp  Humidity  \\\n",
       "44        44      coihaique -45.5752  -72.0662     26.34        49   \n",
       "68        68  makakilo city  21.3469 -158.0858     25.01        79   \n",
       "143      143        sakakah  29.9697   40.2064     21.89        36   \n",
       "152      152         wardha  20.7500   78.6167     21.27        56   \n",
       "236      236     bin qirdan  33.1378   11.2197     23.96        41   \n",
       "\n",
       "     Cloudiness  Wind Speed Country        Date  \n",
       "44            0        3.09      CL  1667491581  \n",
       "68            0        2.57      US  1667491587  \n",
       "143           0        1.79      SA  1667491616  \n",
       "152           0        0.89      IN  1667491619  \n",
       "236           0        3.36      TN  1667491649  "
      ]
     },
     "execution_count": 24,
     "metadata": {},
     "output_type": "execute_result"
    }
   ],
   "source": [
    "# Narrow down cities that fit criteria and drop any results with null values\n",
    "ideal_weather = city_data_df.loc[(city_data_df[\"Max Temp\"] > 21) & (city_data_df[\"Max Temp\"]< 27) & (city_data_df[\"Wind Speed\"] < 4.5) & (city_data_df[\"Cloudiness\"] == 0)]\n",
    "\n",
    "# Drop any rows with null values\n",
    "ideal_weather.dropna()\n",
    "\n",
    "# Display sample data\n",
    "ideal_weather.head()\n"
   ]
  },
  {
   "cell_type": "markdown",
   "metadata": {},
   "source": [
    "### Step 3: Create a new DataFrame called `hotel_df`."
   ]
  },
  {
   "cell_type": "code",
   "execution_count": 25,
   "metadata": {},
   "outputs": [
    {
     "data": {
      "text/html": [
       "<div>\n",
       "<style scoped>\n",
       "    .dataframe tbody tr th:only-of-type {\n",
       "        vertical-align: middle;\n",
       "    }\n",
       "\n",
       "    .dataframe tbody tr th {\n",
       "        vertical-align: top;\n",
       "    }\n",
       "\n",
       "    .dataframe thead th {\n",
       "        text-align: right;\n",
       "    }\n",
       "</style>\n",
       "<table border=\"1\" class=\"dataframe\">\n",
       "  <thead>\n",
       "    <tr style=\"text-align: right;\">\n",
       "      <th></th>\n",
       "      <th>City_ID</th>\n",
       "      <th>City</th>\n",
       "      <th>Lat</th>\n",
       "      <th>Lng</th>\n",
       "      <th>Max Temp</th>\n",
       "      <th>Humidity</th>\n",
       "      <th>Cloudiness</th>\n",
       "      <th>Wind Speed</th>\n",
       "      <th>Country</th>\n",
       "      <th>Date</th>\n",
       "      <th>Hotel Name</th>\n",
       "    </tr>\n",
       "  </thead>\n",
       "  <tbody>\n",
       "    <tr>\n",
       "      <th>44</th>\n",
       "      <td>44</td>\n",
       "      <td>coihaique</td>\n",
       "      <td>-45.5752</td>\n",
       "      <td>-72.0662</td>\n",
       "      <td>26.34</td>\n",
       "      <td>49</td>\n",
       "      <td>0</td>\n",
       "      <td>3.09</td>\n",
       "      <td>CL</td>\n",
       "      <td>1667491581</td>\n",
       "      <td></td>\n",
       "    </tr>\n",
       "    <tr>\n",
       "      <th>68</th>\n",
       "      <td>68</td>\n",
       "      <td>makakilo city</td>\n",
       "      <td>21.3469</td>\n",
       "      <td>-158.0858</td>\n",
       "      <td>25.01</td>\n",
       "      <td>79</td>\n",
       "      <td>0</td>\n",
       "      <td>2.57</td>\n",
       "      <td>US</td>\n",
       "      <td>1667491587</td>\n",
       "      <td></td>\n",
       "    </tr>\n",
       "    <tr>\n",
       "      <th>143</th>\n",
       "      <td>143</td>\n",
       "      <td>sakakah</td>\n",
       "      <td>29.9697</td>\n",
       "      <td>40.2064</td>\n",
       "      <td>21.89</td>\n",
       "      <td>36</td>\n",
       "      <td>0</td>\n",
       "      <td>1.79</td>\n",
       "      <td>SA</td>\n",
       "      <td>1667491616</td>\n",
       "      <td></td>\n",
       "    </tr>\n",
       "    <tr>\n",
       "      <th>152</th>\n",
       "      <td>152</td>\n",
       "      <td>wardha</td>\n",
       "      <td>20.7500</td>\n",
       "      <td>78.6167</td>\n",
       "      <td>21.27</td>\n",
       "      <td>56</td>\n",
       "      <td>0</td>\n",
       "      <td>0.89</td>\n",
       "      <td>IN</td>\n",
       "      <td>1667491619</td>\n",
       "      <td></td>\n",
       "    </tr>\n",
       "    <tr>\n",
       "      <th>236</th>\n",
       "      <td>236</td>\n",
       "      <td>bin qirdan</td>\n",
       "      <td>33.1378</td>\n",
       "      <td>11.2197</td>\n",
       "      <td>23.96</td>\n",
       "      <td>41</td>\n",
       "      <td>0</td>\n",
       "      <td>3.36</td>\n",
       "      <td>TN</td>\n",
       "      <td>1667491649</td>\n",
       "      <td></td>\n",
       "    </tr>\n",
       "  </tbody>\n",
       "</table>\n",
       "</div>"
      ],
      "text/plain": [
       "     City_ID           City      Lat       Lng  Max Temp  Humidity  \\\n",
       "44        44      coihaique -45.5752  -72.0662     26.34        49   \n",
       "68        68  makakilo city  21.3469 -158.0858     25.01        79   \n",
       "143      143        sakakah  29.9697   40.2064     21.89        36   \n",
       "152      152         wardha  20.7500   78.6167     21.27        56   \n",
       "236      236     bin qirdan  33.1378   11.2197     23.96        41   \n",
       "\n",
       "     Cloudiness  Wind Speed Country        Date Hotel Name  \n",
       "44            0        3.09      CL  1667491581             \n",
       "68            0        2.57      US  1667491587             \n",
       "143           0        1.79      SA  1667491616             \n",
       "152           0        0.89      IN  1667491619             \n",
       "236           0        3.36      TN  1667491649             "
      ]
     },
     "execution_count": 25,
     "metadata": {},
     "output_type": "execute_result"
    }
   ],
   "source": [
    "# Use the Pandas copy function to create DataFrame called hotel_df to store the city, country, coordinates, and humidity\n",
    "hotel_df = ideal_weather.copy()\n",
    "\n",
    "# Add an empty column, \"Hotel Name,\" to the DataFrame so you can store the hotel found using the Geoapify API\n",
    "hotel_df[\"Hotel Name\"] = \"\"\n",
    "\n",
    "# Display sample data\n",
    "hotel_df.head()"
   ]
  },
  {
   "cell_type": "markdown",
   "metadata": {},
   "source": [
    "### Step 4: For each city, use the Geoapify API to find the first hotel located within 10,000 metres of your coordinates."
   ]
  },
  {
   "cell_type": "code",
   "execution_count": 41,
   "metadata": {},
   "outputs": [
    {
     "name": "stdout",
     "output_type": "stream",
     "text": [
      "Starting hotel search\n",
      "coihaique - nearest hotel: No hotel found <Response [200]>\n",
      "makakilo city - nearest hotel: Embassy Suites by Hilton Oahu Kapolei\n",
      "sakakah - nearest hotel: sakakah residence\n",
      "wardha - nearest hotel: Hotel Mina Palace\n",
      "bin qirdan - nearest hotel: No hotel found <Response [200]>\n",
      "tatawin - nearest hotel: No hotel found <Response [200]>\n",
      "tuxpan - nearest hotel: Hotel Ruiz\n",
      "kurud - nearest hotel: No hotel found <Response [200]>\n",
      "puerto rico - nearest hotel: Suizo\n",
      "camargo - nearest hotel: Hotel Santa Fe\n",
      "dadri - nearest hotel: No hotel found <Response [200]>\n",
      "karratha - nearest hotel: Karratha International Hotel\n",
      "san vicente - nearest hotel: Los Lapachos\n",
      "nanakuli - nearest hotel: Aulani, A Disney Resort & Spa\n",
      "benghazi - nearest hotel: ترجاب\n",
      "huntsville - nearest hotel: Embassy Suites\n",
      "conway - nearest hotel: Fairfield Inn & Suites by Marriott Conway\n",
      "sambava - nearest hotel: Royal Sava Hôtel\n",
      "port hedland - nearest hotel: The Esplanade Hotel\n",
      "comodoro rivadavia - nearest hotel: No hotel found <Response [200]>\n"
     ]
    },
    {
     "data": {
      "text/html": [
       "<div>\n",
       "<style scoped>\n",
       "    .dataframe tbody tr th:only-of-type {\n",
       "        vertical-align: middle;\n",
       "    }\n",
       "\n",
       "    .dataframe tbody tr th {\n",
       "        vertical-align: top;\n",
       "    }\n",
       "\n",
       "    .dataframe thead th {\n",
       "        text-align: right;\n",
       "    }\n",
       "</style>\n",
       "<table border=\"1\" class=\"dataframe\">\n",
       "  <thead>\n",
       "    <tr style=\"text-align: right;\">\n",
       "      <th></th>\n",
       "      <th>City_ID</th>\n",
       "      <th>City</th>\n",
       "      <th>Lat</th>\n",
       "      <th>Lng</th>\n",
       "      <th>Max Temp</th>\n",
       "      <th>Humidity</th>\n",
       "      <th>Cloudiness</th>\n",
       "      <th>Wind Speed</th>\n",
       "      <th>Country</th>\n",
       "      <th>Date</th>\n",
       "      <th>Hotel Name</th>\n",
       "    </tr>\n",
       "  </thead>\n",
       "  <tbody>\n",
       "    <tr>\n",
       "      <th>44</th>\n",
       "      <td>44</td>\n",
       "      <td>coihaique</td>\n",
       "      <td>-45.5752</td>\n",
       "      <td>-72.0662</td>\n",
       "      <td>26.34</td>\n",
       "      <td>49</td>\n",
       "      <td>0</td>\n",
       "      <td>3.09</td>\n",
       "      <td>CL</td>\n",
       "      <td>1667491581</td>\n",
       "      <td>No hotel found &lt;Response [200]&gt;</td>\n",
       "    </tr>\n",
       "    <tr>\n",
       "      <th>68</th>\n",
       "      <td>68</td>\n",
       "      <td>makakilo city</td>\n",
       "      <td>21.3469</td>\n",
       "      <td>-158.0858</td>\n",
       "      <td>25.01</td>\n",
       "      <td>79</td>\n",
       "      <td>0</td>\n",
       "      <td>2.57</td>\n",
       "      <td>US</td>\n",
       "      <td>1667491587</td>\n",
       "      <td>Embassy Suites by Hilton Oahu Kapolei</td>\n",
       "    </tr>\n",
       "    <tr>\n",
       "      <th>143</th>\n",
       "      <td>143</td>\n",
       "      <td>sakakah</td>\n",
       "      <td>29.9697</td>\n",
       "      <td>40.2064</td>\n",
       "      <td>21.89</td>\n",
       "      <td>36</td>\n",
       "      <td>0</td>\n",
       "      <td>1.79</td>\n",
       "      <td>SA</td>\n",
       "      <td>1667491616</td>\n",
       "      <td>sakakah residence</td>\n",
       "    </tr>\n",
       "    <tr>\n",
       "      <th>152</th>\n",
       "      <td>152</td>\n",
       "      <td>wardha</td>\n",
       "      <td>20.7500</td>\n",
       "      <td>78.6167</td>\n",
       "      <td>21.27</td>\n",
       "      <td>56</td>\n",
       "      <td>0</td>\n",
       "      <td>0.89</td>\n",
       "      <td>IN</td>\n",
       "      <td>1667491619</td>\n",
       "      <td>Hotel Mina Palace</td>\n",
       "    </tr>\n",
       "    <tr>\n",
       "      <th>236</th>\n",
       "      <td>236</td>\n",
       "      <td>bin qirdan</td>\n",
       "      <td>33.1378</td>\n",
       "      <td>11.2197</td>\n",
       "      <td>23.96</td>\n",
       "      <td>41</td>\n",
       "      <td>0</td>\n",
       "      <td>3.36</td>\n",
       "      <td>TN</td>\n",
       "      <td>1667491649</td>\n",
       "      <td>No hotel found &lt;Response [200]&gt;</td>\n",
       "    </tr>\n",
       "    <tr>\n",
       "      <th>238</th>\n",
       "      <td>238</td>\n",
       "      <td>tatawin</td>\n",
       "      <td>32.9297</td>\n",
       "      <td>10.4518</td>\n",
       "      <td>23.47</td>\n",
       "      <td>27</td>\n",
       "      <td>0</td>\n",
       "      <td>1.91</td>\n",
       "      <td>TN</td>\n",
       "      <td>1667491649</td>\n",
       "      <td>No hotel found &lt;Response [200]&gt;</td>\n",
       "    </tr>\n",
       "    <tr>\n",
       "      <th>253</th>\n",
       "      <td>253</td>\n",
       "      <td>tuxpan</td>\n",
       "      <td>19.5500</td>\n",
       "      <td>-103.4000</td>\n",
       "      <td>24.29</td>\n",
       "      <td>59</td>\n",
       "      <td>0</td>\n",
       "      <td>0.95</td>\n",
       "      <td>MX</td>\n",
       "      <td>1667491654</td>\n",
       "      <td>Hotel Ruiz</td>\n",
       "    </tr>\n",
       "    <tr>\n",
       "      <th>340</th>\n",
       "      <td>340</td>\n",
       "      <td>kurud</td>\n",
       "      <td>20.8322</td>\n",
       "      <td>81.7214</td>\n",
       "      <td>22.99</td>\n",
       "      <td>63</td>\n",
       "      <td>0</td>\n",
       "      <td>2.18</td>\n",
       "      <td>IN</td>\n",
       "      <td>1667491682</td>\n",
       "      <td>No hotel found &lt;Response [200]&gt;</td>\n",
       "    </tr>\n",
       "    <tr>\n",
       "      <th>341</th>\n",
       "      <td>341</td>\n",
       "      <td>puerto rico</td>\n",
       "      <td>-26.7960</td>\n",
       "      <td>-55.0240</td>\n",
       "      <td>26.70</td>\n",
       "      <td>33</td>\n",
       "      <td>0</td>\n",
       "      <td>0.20</td>\n",
       "      <td>AR</td>\n",
       "      <td>1667491682</td>\n",
       "      <td>Suizo</td>\n",
       "    </tr>\n",
       "    <tr>\n",
       "      <th>360</th>\n",
       "      <td>360</td>\n",
       "      <td>camargo</td>\n",
       "      <td>27.6667</td>\n",
       "      <td>-105.1667</td>\n",
       "      <td>21.63</td>\n",
       "      <td>23</td>\n",
       "      <td>0</td>\n",
       "      <td>2.51</td>\n",
       "      <td>MX</td>\n",
       "      <td>1667491691</td>\n",
       "      <td>Hotel Santa Fe</td>\n",
       "    </tr>\n",
       "    <tr>\n",
       "      <th>375</th>\n",
       "      <td>375</td>\n",
       "      <td>dadri</td>\n",
       "      <td>28.5667</td>\n",
       "      <td>77.5500</td>\n",
       "      <td>24.12</td>\n",
       "      <td>41</td>\n",
       "      <td>0</td>\n",
       "      <td>1.22</td>\n",
       "      <td>IN</td>\n",
       "      <td>1667491696</td>\n",
       "      <td>No hotel found &lt;Response [200]&gt;</td>\n",
       "    </tr>\n",
       "    <tr>\n",
       "      <th>389</th>\n",
       "      <td>389</td>\n",
       "      <td>karratha</td>\n",
       "      <td>-20.7377</td>\n",
       "      <td>116.8463</td>\n",
       "      <td>24.79</td>\n",
       "      <td>48</td>\n",
       "      <td>0</td>\n",
       "      <td>4.14</td>\n",
       "      <td>AU</td>\n",
       "      <td>1667491700</td>\n",
       "      <td>Karratha International Hotel</td>\n",
       "    </tr>\n",
       "    <tr>\n",
       "      <th>404</th>\n",
       "      <td>404</td>\n",
       "      <td>san vicente</td>\n",
       "      <td>-26.6167</td>\n",
       "      <td>-54.1333</td>\n",
       "      <td>22.79</td>\n",
       "      <td>34</td>\n",
       "      <td>0</td>\n",
       "      <td>2.09</td>\n",
       "      <td>AR</td>\n",
       "      <td>1667491706</td>\n",
       "      <td>Los Lapachos</td>\n",
       "    </tr>\n",
       "    <tr>\n",
       "      <th>424</th>\n",
       "      <td>424</td>\n",
       "      <td>nanakuli</td>\n",
       "      <td>21.3906</td>\n",
       "      <td>-158.1547</td>\n",
       "      <td>25.81</td>\n",
       "      <td>71</td>\n",
       "      <td>0</td>\n",
       "      <td>2.06</td>\n",
       "      <td>US</td>\n",
       "      <td>1667491713</td>\n",
       "      <td>Aulani, A Disney Resort &amp; Spa</td>\n",
       "    </tr>\n",
       "    <tr>\n",
       "      <th>452</th>\n",
       "      <td>452</td>\n",
       "      <td>benghazi</td>\n",
       "      <td>32.1167</td>\n",
       "      <td>20.0667</td>\n",
       "      <td>22.37</td>\n",
       "      <td>59</td>\n",
       "      <td>0</td>\n",
       "      <td>4.30</td>\n",
       "      <td>LY</td>\n",
       "      <td>1667491723</td>\n",
       "      <td>ترجاب</td>\n",
       "    </tr>\n",
       "    <tr>\n",
       "      <th>478</th>\n",
       "      <td>478</td>\n",
       "      <td>huntsville</td>\n",
       "      <td>34.7304</td>\n",
       "      <td>-86.5861</td>\n",
       "      <td>22.14</td>\n",
       "      <td>66</td>\n",
       "      <td>0</td>\n",
       "      <td>4.12</td>\n",
       "      <td>US</td>\n",
       "      <td>1667491538</td>\n",
       "      <td>Embassy Suites</td>\n",
       "    </tr>\n",
       "    <tr>\n",
       "      <th>482</th>\n",
       "      <td>482</td>\n",
       "      <td>conway</td>\n",
       "      <td>35.0887</td>\n",
       "      <td>-92.4421</td>\n",
       "      <td>22.61</td>\n",
       "      <td>66</td>\n",
       "      <td>0</td>\n",
       "      <td>2.06</td>\n",
       "      <td>US</td>\n",
       "      <td>1667491628</td>\n",
       "      <td>Fairfield Inn &amp; Suites by Marriott Conway</td>\n",
       "    </tr>\n",
       "    <tr>\n",
       "      <th>484</th>\n",
       "      <td>484</td>\n",
       "      <td>sambava</td>\n",
       "      <td>-14.2667</td>\n",
       "      <td>50.1667</td>\n",
       "      <td>22.81</td>\n",
       "      <td>80</td>\n",
       "      <td>0</td>\n",
       "      <td>1.20</td>\n",
       "      <td>MG</td>\n",
       "      <td>1667491732</td>\n",
       "      <td>Royal Sava Hôtel</td>\n",
       "    </tr>\n",
       "    <tr>\n",
       "      <th>515</th>\n",
       "      <td>515</td>\n",
       "      <td>port hedland</td>\n",
       "      <td>-20.3167</td>\n",
       "      <td>118.5667</td>\n",
       "      <td>22.03</td>\n",
       "      <td>68</td>\n",
       "      <td>0</td>\n",
       "      <td>4.12</td>\n",
       "      <td>AU</td>\n",
       "      <td>1667491741</td>\n",
       "      <td>The Esplanade Hotel</td>\n",
       "    </tr>\n",
       "    <tr>\n",
       "      <th>529</th>\n",
       "      <td>529</td>\n",
       "      <td>comodoro rivadavia</td>\n",
       "      <td>-45.8667</td>\n",
       "      <td>-67.5000</td>\n",
       "      <td>21.92</td>\n",
       "      <td>33</td>\n",
       "      <td>0</td>\n",
       "      <td>3.60</td>\n",
       "      <td>AR</td>\n",
       "      <td>1667491746</td>\n",
       "      <td>No hotel found &lt;Response [200]&gt;</td>\n",
       "    </tr>\n",
       "  </tbody>\n",
       "</table>\n",
       "</div>"
      ],
      "text/plain": [
       "     City_ID                City      Lat       Lng  Max Temp  Humidity  \\\n",
       "44        44           coihaique -45.5752  -72.0662     26.34        49   \n",
       "68        68       makakilo city  21.3469 -158.0858     25.01        79   \n",
       "143      143             sakakah  29.9697   40.2064     21.89        36   \n",
       "152      152              wardha  20.7500   78.6167     21.27        56   \n",
       "236      236          bin qirdan  33.1378   11.2197     23.96        41   \n",
       "238      238             tatawin  32.9297   10.4518     23.47        27   \n",
       "253      253              tuxpan  19.5500 -103.4000     24.29        59   \n",
       "340      340               kurud  20.8322   81.7214     22.99        63   \n",
       "341      341         puerto rico -26.7960  -55.0240     26.70        33   \n",
       "360      360             camargo  27.6667 -105.1667     21.63        23   \n",
       "375      375               dadri  28.5667   77.5500     24.12        41   \n",
       "389      389            karratha -20.7377  116.8463     24.79        48   \n",
       "404      404         san vicente -26.6167  -54.1333     22.79        34   \n",
       "424      424            nanakuli  21.3906 -158.1547     25.81        71   \n",
       "452      452            benghazi  32.1167   20.0667     22.37        59   \n",
       "478      478          huntsville  34.7304  -86.5861     22.14        66   \n",
       "482      482              conway  35.0887  -92.4421     22.61        66   \n",
       "484      484             sambava -14.2667   50.1667     22.81        80   \n",
       "515      515        port hedland -20.3167  118.5667     22.03        68   \n",
       "529      529  comodoro rivadavia -45.8667  -67.5000     21.92        33   \n",
       "\n",
       "     Cloudiness  Wind Speed Country        Date  \\\n",
       "44            0        3.09      CL  1667491581   \n",
       "68            0        2.57      US  1667491587   \n",
       "143           0        1.79      SA  1667491616   \n",
       "152           0        0.89      IN  1667491619   \n",
       "236           0        3.36      TN  1667491649   \n",
       "238           0        1.91      TN  1667491649   \n",
       "253           0        0.95      MX  1667491654   \n",
       "340           0        2.18      IN  1667491682   \n",
       "341           0        0.20      AR  1667491682   \n",
       "360           0        2.51      MX  1667491691   \n",
       "375           0        1.22      IN  1667491696   \n",
       "389           0        4.14      AU  1667491700   \n",
       "404           0        2.09      AR  1667491706   \n",
       "424           0        2.06      US  1667491713   \n",
       "452           0        4.30      LY  1667491723   \n",
       "478           0        4.12      US  1667491538   \n",
       "482           0        2.06      US  1667491628   \n",
       "484           0        1.20      MG  1667491732   \n",
       "515           0        4.12      AU  1667491741   \n",
       "529           0        3.60      AR  1667491746   \n",
       "\n",
       "                                    Hotel Name  \n",
       "44             No hotel found <Response [200]>  \n",
       "68       Embassy Suites by Hilton Oahu Kapolei  \n",
       "143                          sakakah residence  \n",
       "152                          Hotel Mina Palace  \n",
       "236            No hotel found <Response [200]>  \n",
       "238            No hotel found <Response [200]>  \n",
       "253                                 Hotel Ruiz  \n",
       "340            No hotel found <Response [200]>  \n",
       "341                                      Suizo  \n",
       "360                             Hotel Santa Fe  \n",
       "375            No hotel found <Response [200]>  \n",
       "389               Karratha International Hotel  \n",
       "404                               Los Lapachos  \n",
       "424              Aulani, A Disney Resort & Spa  \n",
       "452                                      ترجاب  \n",
       "478                             Embassy Suites  \n",
       "482  Fairfield Inn & Suites by Marriott Conway  \n",
       "484                           Royal Sava Hôtel  \n",
       "515                        The Esplanade Hotel  \n",
       "529            No hotel found <Response [200]>  "
      ]
     },
     "execution_count": 41,
     "metadata": {},
     "output_type": "execute_result"
    }
   ],
   "source": [
    "# Set parameters to search for a hotel\n",
    "radius = 10000\n",
    "params = {\n",
    "    \"categories\": \"accommodation.hotel\",\n",
    "    \"apiKey\": geoapify_key,\n",
    "    \"limit\": 20\n",
    "}\n",
    "\n",
    "# Print a message to follow up the hotel search\n",
    "print(\"Starting hotel search\")\n",
    "\n",
    "# Iterate through the hotel_df DataFrame\n",
    "for index, row in hotel_df.iterrows():\n",
    "    # get latitude, longitude from the DataFrame\n",
    "    lat = row[\"Lat\"]\n",
    "    lng = row[\"Lng\"]\n",
    "    \n",
    "    # Add filter and bias parameters with the current city's latitude and longitude to the params dictionary\n",
    "    params[\"filter\"] = f'circle:{lng},{lat},{radius}'\n",
    "    params[\"bias\"] = f'proximity:{lng},{lat}'\n",
    "    \n",
    "    # Set base URL\n",
    "    base_url = \"https://api.geoapify.com/v2/places\"\n",
    "\n",
    "\n",
    "    # Make and API request using the params dictionaty\n",
    "    response_address = requests.get(base_url, params=params)\n",
    "    \n",
    "    # Convert the API response to JSON format\n",
    "    name_address = response_address.json()\n",
    "    \n",
    "    # Grab the first hotel from the results and store the name in the hotel_df DataFrame\n",
    "    try:\n",
    "        hotel_df.loc[index, \"Hotel Name\"] = name_address[\"features\"][0][\"properties\"][\"name\"]\n",
    "    except (KeyError, IndexError):\n",
    "        # If no hotel is found, set the hotel name as \"No hotel found\".\n",
    "        hotel_df.loc[index, \"Hotel Name\"] = f\"No hotel found {response_address}\"\n",
    "        \n",
    "    # Log the search results\n",
    "    print(f\"{hotel_df.loc[index, 'City']} - nearest hotel: {hotel_df.loc[index, 'Hotel Name']}\")\n",
    "\n",
    "# Display sample data\n",
    "hotel_df"
   ]
  },
  {
   "cell_type": "markdown",
   "metadata": {},
   "source": [
    "### Step 5: Add the hotel name and the country as additional information in the hover message for each city in the map."
   ]
  },
  {
   "cell_type": "code",
   "execution_count": 42,
   "metadata": {},
   "outputs": [
    {
     "data": {
      "application/vnd.plotly.v1+json": {
       "config": {
        "plotlyServerURL": "https://plot.ly"
       },
       "data": [
        {
         "hovertemplate": "<b>%{hovertext}</b><br><br>Humidity=%{marker.size}<br>Lat=%{lat}<br>Lng=%{lon}<extra></extra>",
         "hovertext": [
          "coihaique",
          "makakilo city",
          "sakakah",
          "wardha",
          "bin qirdan",
          "tatawin",
          "tuxpan",
          "kurud",
          "puerto rico",
          "camargo",
          "dadri",
          "karratha",
          "san vicente",
          "nanakuli",
          "benghazi",
          "huntsville",
          "conway",
          "sambava",
          "port hedland",
          "comodoro rivadavia"
         ],
         "lat": [
          -45.5752,
          21.3469,
          29.9697,
          20.75,
          33.1378,
          32.9297,
          19.55,
          20.8322,
          -26.796,
          27.6667,
          28.5667,
          -20.7377,
          -26.6167,
          21.3906,
          32.1167,
          34.7304,
          35.0887,
          -14.2667,
          -20.3167,
          -45.8667
         ],
         "legendgroup": "",
         "lon": [
          -72.0662,
          -158.0858,
          40.2064,
          78.6167,
          11.2197,
          10.4518,
          -103.4,
          81.7214,
          -55.023999999999994,
          -105.1667,
          77.55,
          116.8463,
          -54.1333,
          -158.1547,
          20.0667,
          -86.5861,
          -92.4421,
          50.1667,
          118.5667,
          -67.5
         ],
         "marker": {
          "color": "fuchsia",
          "size": [
           49,
           79,
           36,
           56,
           41,
           27,
           59,
           63,
           33,
           23,
           41,
           48,
           34,
           71,
           59,
           66,
           66,
           80,
           68,
           33
          ],
          "sizemode": "area",
          "sizeref": 0.2
         },
         "mode": "markers",
         "name": "",
         "showlegend": false,
         "subplot": "mapbox",
         "type": "scattermapbox"
        }
       ],
       "layout": {
        "height": 800,
        "legend": {
         "itemsizing": "constant",
         "tracegroupgap": 0
        },
        "mapbox": {
         "center": {
          "lat": 7.89502,
          "lon": -17.357324999999996
         },
         "domain": {
          "x": [
           0,
           1
          ],
          "y": [
           0,
           1
          ]
         },
         "style": "open-street-map",
         "zoom": 2
        },
        "margin": {
         "b": 0,
         "l": 0,
         "r": 0,
         "t": 0
        },
        "template": {
         "data": {
          "bar": [
           {
            "error_x": {
             "color": "#2a3f5f"
            },
            "error_y": {
             "color": "#2a3f5f"
            },
            "marker": {
             "line": {
              "color": "#E5ECF6",
              "width": 0.5
             },
             "pattern": {
              "fillmode": "overlay",
              "size": 10,
              "solidity": 0.2
             }
            },
            "type": "bar"
           }
          ],
          "barpolar": [
           {
            "marker": {
             "line": {
              "color": "#E5ECF6",
              "width": 0.5
             },
             "pattern": {
              "fillmode": "overlay",
              "size": 10,
              "solidity": 0.2
             }
            },
            "type": "barpolar"
           }
          ],
          "carpet": [
           {
            "aaxis": {
             "endlinecolor": "#2a3f5f",
             "gridcolor": "white",
             "linecolor": "white",
             "minorgridcolor": "white",
             "startlinecolor": "#2a3f5f"
            },
            "baxis": {
             "endlinecolor": "#2a3f5f",
             "gridcolor": "white",
             "linecolor": "white",
             "minorgridcolor": "white",
             "startlinecolor": "#2a3f5f"
            },
            "type": "carpet"
           }
          ],
          "choropleth": [
           {
            "colorbar": {
             "outlinewidth": 0,
             "ticks": ""
            },
            "type": "choropleth"
           }
          ],
          "contour": [
           {
            "colorbar": {
             "outlinewidth": 0,
             "ticks": ""
            },
            "colorscale": [
             [
              0,
              "#0d0887"
             ],
             [
              0.1111111111111111,
              "#46039f"
             ],
             [
              0.2222222222222222,
              "#7201a8"
             ],
             [
              0.3333333333333333,
              "#9c179e"
             ],
             [
              0.4444444444444444,
              "#bd3786"
             ],
             [
              0.5555555555555556,
              "#d8576b"
             ],
             [
              0.6666666666666666,
              "#ed7953"
             ],
             [
              0.7777777777777778,
              "#fb9f3a"
             ],
             [
              0.8888888888888888,
              "#fdca26"
             ],
             [
              1,
              "#f0f921"
             ]
            ],
            "type": "contour"
           }
          ],
          "contourcarpet": [
           {
            "colorbar": {
             "outlinewidth": 0,
             "ticks": ""
            },
            "type": "contourcarpet"
           }
          ],
          "heatmap": [
           {
            "colorbar": {
             "outlinewidth": 0,
             "ticks": ""
            },
            "colorscale": [
             [
              0,
              "#0d0887"
             ],
             [
              0.1111111111111111,
              "#46039f"
             ],
             [
              0.2222222222222222,
              "#7201a8"
             ],
             [
              0.3333333333333333,
              "#9c179e"
             ],
             [
              0.4444444444444444,
              "#bd3786"
             ],
             [
              0.5555555555555556,
              "#d8576b"
             ],
             [
              0.6666666666666666,
              "#ed7953"
             ],
             [
              0.7777777777777778,
              "#fb9f3a"
             ],
             [
              0.8888888888888888,
              "#fdca26"
             ],
             [
              1,
              "#f0f921"
             ]
            ],
            "type": "heatmap"
           }
          ],
          "heatmapgl": [
           {
            "colorbar": {
             "outlinewidth": 0,
             "ticks": ""
            },
            "colorscale": [
             [
              0,
              "#0d0887"
             ],
             [
              0.1111111111111111,
              "#46039f"
             ],
             [
              0.2222222222222222,
              "#7201a8"
             ],
             [
              0.3333333333333333,
              "#9c179e"
             ],
             [
              0.4444444444444444,
              "#bd3786"
             ],
             [
              0.5555555555555556,
              "#d8576b"
             ],
             [
              0.6666666666666666,
              "#ed7953"
             ],
             [
              0.7777777777777778,
              "#fb9f3a"
             ],
             [
              0.8888888888888888,
              "#fdca26"
             ],
             [
              1,
              "#f0f921"
             ]
            ],
            "type": "heatmapgl"
           }
          ],
          "histogram": [
           {
            "marker": {
             "pattern": {
              "fillmode": "overlay",
              "size": 10,
              "solidity": 0.2
             }
            },
            "type": "histogram"
           }
          ],
          "histogram2d": [
           {
            "colorbar": {
             "outlinewidth": 0,
             "ticks": ""
            },
            "colorscale": [
             [
              0,
              "#0d0887"
             ],
             [
              0.1111111111111111,
              "#46039f"
             ],
             [
              0.2222222222222222,
              "#7201a8"
             ],
             [
              0.3333333333333333,
              "#9c179e"
             ],
             [
              0.4444444444444444,
              "#bd3786"
             ],
             [
              0.5555555555555556,
              "#d8576b"
             ],
             [
              0.6666666666666666,
              "#ed7953"
             ],
             [
              0.7777777777777778,
              "#fb9f3a"
             ],
             [
              0.8888888888888888,
              "#fdca26"
             ],
             [
              1,
              "#f0f921"
             ]
            ],
            "type": "histogram2d"
           }
          ],
          "histogram2dcontour": [
           {
            "colorbar": {
             "outlinewidth": 0,
             "ticks": ""
            },
            "colorscale": [
             [
              0,
              "#0d0887"
             ],
             [
              0.1111111111111111,
              "#46039f"
             ],
             [
              0.2222222222222222,
              "#7201a8"
             ],
             [
              0.3333333333333333,
              "#9c179e"
             ],
             [
              0.4444444444444444,
              "#bd3786"
             ],
             [
              0.5555555555555556,
              "#d8576b"
             ],
             [
              0.6666666666666666,
              "#ed7953"
             ],
             [
              0.7777777777777778,
              "#fb9f3a"
             ],
             [
              0.8888888888888888,
              "#fdca26"
             ],
             [
              1,
              "#f0f921"
             ]
            ],
            "type": "histogram2dcontour"
           }
          ],
          "mesh3d": [
           {
            "colorbar": {
             "outlinewidth": 0,
             "ticks": ""
            },
            "type": "mesh3d"
           }
          ],
          "parcoords": [
           {
            "line": {
             "colorbar": {
              "outlinewidth": 0,
              "ticks": ""
             }
            },
            "type": "parcoords"
           }
          ],
          "pie": [
           {
            "automargin": true,
            "type": "pie"
           }
          ],
          "scatter": [
           {
            "fillpattern": {
             "fillmode": "overlay",
             "size": 10,
             "solidity": 0.2
            },
            "type": "scatter"
           }
          ],
          "scatter3d": [
           {
            "line": {
             "colorbar": {
              "outlinewidth": 0,
              "ticks": ""
             }
            },
            "marker": {
             "colorbar": {
              "outlinewidth": 0,
              "ticks": ""
             }
            },
            "type": "scatter3d"
           }
          ],
          "scattercarpet": [
           {
            "marker": {
             "colorbar": {
              "outlinewidth": 0,
              "ticks": ""
             }
            },
            "type": "scattercarpet"
           }
          ],
          "scattergeo": [
           {
            "marker": {
             "colorbar": {
              "outlinewidth": 0,
              "ticks": ""
             }
            },
            "type": "scattergeo"
           }
          ],
          "scattergl": [
           {
            "marker": {
             "colorbar": {
              "outlinewidth": 0,
              "ticks": ""
             }
            },
            "type": "scattergl"
           }
          ],
          "scattermapbox": [
           {
            "marker": {
             "colorbar": {
              "outlinewidth": 0,
              "ticks": ""
             }
            },
            "type": "scattermapbox"
           }
          ],
          "scatterpolar": [
           {
            "marker": {
             "colorbar": {
              "outlinewidth": 0,
              "ticks": ""
             }
            },
            "type": "scatterpolar"
           }
          ],
          "scatterpolargl": [
           {
            "marker": {
             "colorbar": {
              "outlinewidth": 0,
              "ticks": ""
             }
            },
            "type": "scatterpolargl"
           }
          ],
          "scatterternary": [
           {
            "marker": {
             "colorbar": {
              "outlinewidth": 0,
              "ticks": ""
             }
            },
            "type": "scatterternary"
           }
          ],
          "surface": [
           {
            "colorbar": {
             "outlinewidth": 0,
             "ticks": ""
            },
            "colorscale": [
             [
              0,
              "#0d0887"
             ],
             [
              0.1111111111111111,
              "#46039f"
             ],
             [
              0.2222222222222222,
              "#7201a8"
             ],
             [
              0.3333333333333333,
              "#9c179e"
             ],
             [
              0.4444444444444444,
              "#bd3786"
             ],
             [
              0.5555555555555556,
              "#d8576b"
             ],
             [
              0.6666666666666666,
              "#ed7953"
             ],
             [
              0.7777777777777778,
              "#fb9f3a"
             ],
             [
              0.8888888888888888,
              "#fdca26"
             ],
             [
              1,
              "#f0f921"
             ]
            ],
            "type": "surface"
           }
          ],
          "table": [
           {
            "cells": {
             "fill": {
              "color": "#EBF0F8"
             },
             "line": {
              "color": "white"
             }
            },
            "header": {
             "fill": {
              "color": "#C8D4E3"
             },
             "line": {
              "color": "white"
             }
            },
            "type": "table"
           }
          ]
         },
         "layout": {
          "annotationdefaults": {
           "arrowcolor": "#2a3f5f",
           "arrowhead": 0,
           "arrowwidth": 1
          },
          "autotypenumbers": "strict",
          "coloraxis": {
           "colorbar": {
            "outlinewidth": 0,
            "ticks": ""
           }
          },
          "colorscale": {
           "diverging": [
            [
             0,
             "#8e0152"
            ],
            [
             0.1,
             "#c51b7d"
            ],
            [
             0.2,
             "#de77ae"
            ],
            [
             0.3,
             "#f1b6da"
            ],
            [
             0.4,
             "#fde0ef"
            ],
            [
             0.5,
             "#f7f7f7"
            ],
            [
             0.6,
             "#e6f5d0"
            ],
            [
             0.7,
             "#b8e186"
            ],
            [
             0.8,
             "#7fbc41"
            ],
            [
             0.9,
             "#4d9221"
            ],
            [
             1,
             "#276419"
            ]
           ],
           "sequential": [
            [
             0,
             "#0d0887"
            ],
            [
             0.1111111111111111,
             "#46039f"
            ],
            [
             0.2222222222222222,
             "#7201a8"
            ],
            [
             0.3333333333333333,
             "#9c179e"
            ],
            [
             0.4444444444444444,
             "#bd3786"
            ],
            [
             0.5555555555555556,
             "#d8576b"
            ],
            [
             0.6666666666666666,
             "#ed7953"
            ],
            [
             0.7777777777777778,
             "#fb9f3a"
            ],
            [
             0.8888888888888888,
             "#fdca26"
            ],
            [
             1,
             "#f0f921"
            ]
           ],
           "sequentialminus": [
            [
             0,
             "#0d0887"
            ],
            [
             0.1111111111111111,
             "#46039f"
            ],
            [
             0.2222222222222222,
             "#7201a8"
            ],
            [
             0.3333333333333333,
             "#9c179e"
            ],
            [
             0.4444444444444444,
             "#bd3786"
            ],
            [
             0.5555555555555556,
             "#d8576b"
            ],
            [
             0.6666666666666666,
             "#ed7953"
            ],
            [
             0.7777777777777778,
             "#fb9f3a"
            ],
            [
             0.8888888888888888,
             "#fdca26"
            ],
            [
             1,
             "#f0f921"
            ]
           ]
          },
          "colorway": [
           "#636efa",
           "#EF553B",
           "#00cc96",
           "#ab63fa",
           "#FFA15A",
           "#19d3f3",
           "#FF6692",
           "#B6E880",
           "#FF97FF",
           "#FECB52"
          ],
          "font": {
           "color": "#2a3f5f"
          },
          "geo": {
           "bgcolor": "white",
           "lakecolor": "white",
           "landcolor": "#E5ECF6",
           "showlakes": true,
           "showland": true,
           "subunitcolor": "white"
          },
          "hoverlabel": {
           "align": "left"
          },
          "hovermode": "closest",
          "mapbox": {
           "style": "light"
          },
          "paper_bgcolor": "white",
          "plot_bgcolor": "#E5ECF6",
          "polar": {
           "angularaxis": {
            "gridcolor": "white",
            "linecolor": "white",
            "ticks": ""
           },
           "bgcolor": "#E5ECF6",
           "radialaxis": {
            "gridcolor": "white",
            "linecolor": "white",
            "ticks": ""
           }
          },
          "scene": {
           "xaxis": {
            "backgroundcolor": "#E5ECF6",
            "gridcolor": "white",
            "gridwidth": 2,
            "linecolor": "white",
            "showbackground": true,
            "ticks": "",
            "zerolinecolor": "white"
           },
           "yaxis": {
            "backgroundcolor": "#E5ECF6",
            "gridcolor": "white",
            "gridwidth": 2,
            "linecolor": "white",
            "showbackground": true,
            "ticks": "",
            "zerolinecolor": "white"
           },
           "zaxis": {
            "backgroundcolor": "#E5ECF6",
            "gridcolor": "white",
            "gridwidth": 2,
            "linecolor": "white",
            "showbackground": true,
            "ticks": "",
            "zerolinecolor": "white"
           }
          },
          "shapedefaults": {
           "line": {
            "color": "#2a3f5f"
           }
          },
          "ternary": {
           "aaxis": {
            "gridcolor": "white",
            "linecolor": "white",
            "ticks": ""
           },
           "baxis": {
            "gridcolor": "white",
            "linecolor": "white",
            "ticks": ""
           },
           "bgcolor": "#E5ECF6",
           "caxis": {
            "gridcolor": "white",
            "linecolor": "white",
            "ticks": ""
           }
          },
          "title": {
           "x": 0.05
          },
          "xaxis": {
           "automargin": true,
           "gridcolor": "white",
           "linecolor": "white",
           "ticks": "",
           "title": {
            "standoff": 15
           },
           "zerolinecolor": "white",
           "zerolinewidth": 2
          },
          "yaxis": {
           "automargin": true,
           "gridcolor": "white",
           "linecolor": "white",
           "ticks": "",
           "title": {
            "standoff": 15
           },
           "zerolinecolor": "white",
           "zerolinewidth": 2
          }
         }
        }
       }
      }
     },
     "metadata": {},
     "output_type": "display_data"
    }
   ],
   "source": [
    "#%%capture --no-display\n",
    "\n",
    "# Configure the map plot\n",
    "fig = px.scatter_mapbox(hotel_df, lat=\"Lat\", lon=\"Lng\", hover_name=\"City\", color_discrete_sequence=[\"fuchsia\"], zoom=2, height=800, size=\"Humidity\")\n",
    "fig.update_layout(mapbox_style=\"open-street-map\")\n",
    "fig.update_layout(margin={\"r\":0, \"t\":0, \"l\":0, \"b\":0})\n",
    "\n",
    "# Display the map\n",
    "fig.show()"
   ]
  }
 ],
 "metadata": {
  "kernelspec": {
   "display_name": "Python 3.6.13 ('pythondata')",
   "language": "python",
   "name": "python3"
  },
  "language_info": {
   "codemirror_mode": {
    "name": "ipython",
    "version": 3
   },
   "file_extension": ".py",
   "mimetype": "text/x-python",
   "name": "python",
   "nbconvert_exporter": "python",
   "pygments_lexer": "ipython3",
   "version": "3.6.13"
  },
  "latex_envs": {
   "LaTeX_envs_menu_present": true,
   "autoclose": false,
   "autocomplete": true,
   "bibliofile": "biblio.bib",
   "cite_by": "apalike",
   "current_citInitial": 1,
   "eqLabelWithNumbers": true,
   "eqNumInitial": 1,
   "hotkeys": {
    "equation": "Ctrl-E",
    "itemize": "Ctrl-I"
   },
   "labels_anchors": false,
   "latex_user_defs": false,
   "report_style_numbering": false,
   "user_envs_cfg": false
  },
  "vscode": {
   "interpreter": {
    "hash": "3421649ed3ecb83f8f47bcfb645f822f431520464080c87a3b007aee15b69674"
   }
  }
 },
 "nbformat": 4,
 "nbformat_minor": 4
}
